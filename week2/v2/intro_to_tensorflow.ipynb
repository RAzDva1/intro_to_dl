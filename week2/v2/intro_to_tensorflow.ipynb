{
 "cells": [
  {
   "cell_type": "code",
   "execution_count": 1,
   "metadata": {},
   "outputs": [
    {
     "name": "stderr",
     "output_type": "stream",
     "text": [
      "UsageError: Line magic function `%tensorflow_version` not found.\n"
     ]
    }
   ],
   "source": [
    "# set tf 1.x for colab\n",
    "%tensorflow_version 1.x"
   ]
  },
  {
   "cell_type": "code",
   "execution_count": 1,
   "metadata": {},
   "outputs": [
    {
     "name": "stdout",
     "output_type": "stream",
     "text": [
      "1.15.0\n"
     ]
    }
   ],
   "source": [
    "import tensorflow as tf\n",
    "print(tf.__version__)"
   ]
  },
  {
   "cell_type": "markdown",
   "metadata": {
    "slideshow": {
     "slide_type": "slide"
    }
   },
   "source": [
    "# Intro to TensorFlow\n",
    "\n",
    "This notebook covers the basics of TF and shows you an animation with gradient descent trajectory.\n",
    "<img src=\"images/gradient_descent.png\" style=\"width:50%\">"
   ]
  },
  {
   "cell_type": "markdown",
   "metadata": {},
   "source": [
    "# TensorBoard"
   ]
  },
  {
   "cell_type": "markdown",
   "metadata": {},
   "source": [
    "**Plase note that if you are running on the Coursera platform, you won't be able to access the tensorboard instance due to the network setup there.**\n",
    "\n",
    "Run `tensorboard --logdir=./tensorboard_logs --port=7007` in bash.\n",
    "\n",
    "If you run the notebook locally, you should be able to access TensorBoard on http://127.0.0.1:7007/"
   ]
  },
  {
   "cell_type": "code",
   "execution_count": 2,
   "metadata": {},
   "outputs": [
    {
     "name": "stderr",
     "output_type": "stream",
     "text": [
      "Using TensorFlow backend.\n"
     ]
    },
    {
     "name": "stdout",
     "output_type": "stream",
     "text": [
      "WARNING:tensorflow:From ../..\\keras_utils.py:68: The name tf.get_default_session is deprecated. Please use tf.compat.v1.get_default_session instead.\n",
      "\n",
      "WARNING:tensorflow:From d:\\projects\\ml\\advanced_ml\\venv\\lib\\site-packages\\keras\\backend\\tensorflow_backend.py:79: The name tf.reset_default_graph is deprecated. Please use tf.compat.v1.reset_default_graph instead.\n",
      "\n",
      "WARNING:tensorflow:From d:\\projects\\ml\\advanced_ml\\venv\\lib\\site-packages\\keras\\backend\\tensorflow_backend.py:82: The name tf.placeholder is deprecated. Please use tf.compat.v1.placeholder instead.\n",
      "\n",
      "WARNING:tensorflow:From d:\\projects\\ml\\advanced_ml\\venv\\lib\\site-packages\\keras\\backend\\tensorflow_backend.py:84: The name tf.get_default_graph is deprecated. Please use tf.compat.v1.get_default_graph instead.\n",
      "\n",
      "WARNING:tensorflow:From ../..\\keras_utils.py:75: The name tf.ConfigProto is deprecated. Please use tf.compat.v1.ConfigProto instead.\n",
      "\n",
      "WARNING:tensorflow:From ../..\\keras_utils.py:77: The name tf.InteractiveSession is deprecated. Please use tf.compat.v1.InteractiveSession instead.\n",
      "\n",
      "We're using TF 1.15.0\n"
     ]
    }
   ],
   "source": [
    "import tensorflow as tf\n",
    "import sys\n",
    "sys.path.append(\"../..\")\n",
    "from keras_utils import reset_tf_session\n",
    "s = reset_tf_session()\n",
    "print(\"We're using TF\", tf.__version__)"
   ]
  },
  {
   "cell_type": "markdown",
   "metadata": {},
   "source": [
    "# Warming up\n",
    "For starters, let's implement a python function that computes the sum of squares of numbers from 0 to N-1."
   ]
  },
  {
   "cell_type": "code",
   "execution_count": 3,
   "metadata": {},
   "outputs": [],
   "source": [
    "import numpy as np\n",
    "\n",
    "def sum_python(N):\n",
    "    N = np.array(N).astype('int64')\n",
    "    return np.sum(np.arange(N)**2)"
   ]
  },
  {
   "cell_type": "code",
   "execution_count": 4,
   "metadata": {},
   "outputs": [
    {
     "name": "stdout",
     "output_type": "stream",
     "text": [
      "Wall time: 0 ns\n"
     ]
    },
    {
     "data": {
      "text/plain": [
       "333328333350000"
      ]
     },
     "execution_count": 4,
     "metadata": {},
     "output_type": "execute_result"
    }
   ],
   "source": [
    "%%time\n",
    "sum_python(10**5)"
   ]
  },
  {
   "cell_type": "markdown",
   "metadata": {},
   "source": [
    "# Tensoflow teaser\n",
    "\n",
    "Doing the very same thing"
   ]
  },
  {
   "cell_type": "code",
   "execution_count": 5,
   "metadata": {},
   "outputs": [],
   "source": [
    "# An integer parameter\n",
    "N = tf.placeholder('int64', name=\"input_to_your_function\")\n",
    "\n",
    "# A recipe on how to produce the same result\n",
    "result = tf.reduce_sum(tf.range(N)**2)"
   ]
  },
  {
   "cell_type": "code",
   "execution_count": 6,
   "metadata": {},
   "outputs": [
    {
     "data": {
      "text/plain": [
       "<tf.Tensor 'Sum:0' shape=() dtype=int64>"
      ]
     },
     "execution_count": 6,
     "metadata": {},
     "output_type": "execute_result"
    }
   ],
   "source": [
    "# just a graph definition\n",
    "result"
   ]
  },
  {
   "cell_type": "code",
   "execution_count": 7,
   "metadata": {},
   "outputs": [
    {
     "name": "stdout",
     "output_type": "stream",
     "text": [
      "Wall time: 40.5 ms\n"
     ]
    },
    {
     "data": {
      "text/plain": [
       "333328333350000"
      ]
     },
     "execution_count": 7,
     "metadata": {},
     "output_type": "execute_result"
    }
   ],
   "source": [
    "%%time\n",
    "# actually executing\n",
    "result.eval({N: 10**5})"
   ]
  },
  {
   "cell_type": "code",
   "execution_count": 8,
   "metadata": {},
   "outputs": [
    {
     "name": "stdout",
     "output_type": "stream",
     "text": [
      "Device mapping:\n",
      "/job:localhost/replica:0/task:0/device:GPU:0 -> device: 0, name: GeForce GTX 1660, pci bus id: 0000:06:00.0, compute capability: 7.5\n",
      "\n",
      "333328333350000\n",
      "Wall time: 114 ms\n"
     ]
    }
   ],
   "source": [
    "%%time\n",
    "with tf.Session(config=tf.ConfigProto(log_device_placement=True)) as s:\n",
    "    print(s.run(result, ({N: 10**5})))"
   ]
  },
  {
   "cell_type": "code",
   "execution_count": 9,
   "metadata": {},
   "outputs": [],
   "source": [
    "# logger for tensorboard\n",
    "writer = tf.summary.FileWriter(\"tensorboard_logs\", graph=s.graph)"
   ]
  },
  {
   "cell_type": "markdown",
   "metadata": {},
   "source": [
    "# How does it work?\n",
    "1. Define placeholders where you'll send inputs\n",
    "2. Make a symbolic graph: a recipe for mathematical transformation of those placeholders\n",
    "3. Compute outputs of your graph with particular values for each placeholder\n",
    "  * `output.eval({placeholder: value})`\n",
    "  * `s.run(output, {placeholder: value})`\n",
    "\n",
    "So far there are two main entities: \"placeholder\" and \"transformation\" (operation output)\n",
    "* Both can be numbers, vectors, matrices, tensors, etc.\n",
    "* Both can be int32/64, floats, booleans (uint8) of various size.\n",
    "\n",
    "* You can define new transformations as an arbitrary operation on placeholders and other transformations\n",
    " * `tf.reduce_sum(tf.arange(N)**2)` are 3 sequential transformations of placeholder `N`\n",
    " * There's a tensorflow symbolic version for every numpy function\n",
    "   * `a+b, a/b, a**b, ...` behave just like in numpy\n",
    "   * `np.mean` -> `tf.reduce_mean`\n",
    "   * `np.arange` -> `tf.range`\n",
    "   * `np.cumsum` -> `tf.cumsum`\n",
    "   * If you can't find the operation you need, see the [docs](https://www.tensorflow.org/versions/r1.3/api_docs/python).\n",
    "   \n",
    "`tf.contrib` has many high-level features, may be worth a look."
   ]
  },
  {
   "cell_type": "code",
   "execution_count": 10,
   "metadata": {},
   "outputs": [],
   "source": [
    "with tf.name_scope(\"Placeholders_examples\"):\n",
    "    # Default placeholder that can be arbitrary float32\n",
    "    # scalar, vertor, matrix, etc.\n",
    "    arbitrary_input = tf.placeholder('float32')\n",
    "\n",
    "    # Input vector of arbitrary length\n",
    "    input_vector = tf.placeholder('float32', shape=(None,))\n",
    "\n",
    "    # Input vector that _must_ have 10 elements and integer type\n",
    "    fixed_vector = tf.placeholder('int32', shape=(10,))\n",
    "\n",
    "    # Matrix of arbitrary n_rows and 15 columns\n",
    "    # (e.g. a minibatch of your data table)\n",
    "    input_matrix = tf.placeholder('float32', shape=(None, 15))\n",
    "    \n",
    "    # You can generally use None whenever you don't need a specific shape\n",
    "    input1 = tf.placeholder('float64', shape=(None, 100, None))\n",
    "    input2 = tf.placeholder('int32', shape=(None, None, 3, 224, 224))\n",
    "\n",
    "    # elementwise multiplication\n",
    "    double_the_vector = input_vector*2\n",
    "\n",
    "    # elementwise cosine\n",
    "    elementwise_cosine = tf.cos(input_vector)\n",
    "\n",
    "    # difference between squared vector and vector itself plus one\n",
    "    vector_squares = input_vector**2 - input_vector + 1"
   ]
  },
  {
   "cell_type": "code",
   "execution_count": 11,
   "metadata": {},
   "outputs": [],
   "source": [
    "my_vector =  tf.placeholder('float32', shape=(None,), name=\"VECTOR_1\")\n",
    "my_vector2 = tf.placeholder('float32', shape=(None,))\n",
    "my_transformation = my_vector * my_vector2 / (tf.sin(my_vector) + 1)"
   ]
  },
  {
   "cell_type": "code",
   "execution_count": 12,
   "metadata": {},
   "outputs": [
    {
     "name": "stdout",
     "output_type": "stream",
     "text": [
      "Tensor(\"truediv:0\", shape=(?,), dtype=float32)\n"
     ]
    }
   ],
   "source": [
    "print(my_transformation)"
   ]
  },
  {
   "cell_type": "code",
   "execution_count": 13,
   "metadata": {},
   "outputs": [
    {
     "name": "stdout",
     "output_type": "stream",
     "text": [
      "[0. 1. 2. 3. 4.]\n"
     ]
    },
    {
     "data": {
      "text/plain": [
       "array([0.       , 1.6291325, 2.0950115, 2.6289961, 0.       ],\n",
       "      dtype=float32)"
      ]
     },
     "execution_count": 13,
     "metadata": {},
     "output_type": "execute_result"
    }
   ],
   "source": [
    "dummy = np.arange(5).astype('float32')\n",
    "print(dummy)\n",
    "my_transformation.eval({my_vector: dummy, my_vector2: dummy[::-1]})"
   ]
  },
  {
   "cell_type": "code",
   "execution_count": 14,
   "metadata": {},
   "outputs": [],
   "source": [
    "writer.add_graph(my_transformation.graph)\n",
    "writer.flush()"
   ]
  },
  {
   "cell_type": "markdown",
   "metadata": {},
   "source": [
    "TensorBoard allows writing scalars, images, audio, histogram. You can read more on tensorboard usage [here](https://www.tensorflow.org/get_started/graph_viz)."
   ]
  },
  {
   "cell_type": "markdown",
   "metadata": {},
   "source": [
    "# Summary\n",
    "* Tensorflow is based on computation graphs\n",
    "* A graph consists of placeholders and transformations"
   ]
  },
  {
   "cell_type": "markdown",
   "metadata": {},
   "source": [
    "# Loss function: Mean Squared Error\n",
    "\n",
    "Loss function must be a part of the graph as well, so that we can do backpropagation."
   ]
  },
  {
   "cell_type": "code",
   "execution_count": 15,
   "metadata": {},
   "outputs": [],
   "source": [
    "with tf.name_scope(\"MSE\"):\n",
    "    y_true = tf.placeholder(\"float32\", shape=(None,), name=\"y_true\")\n",
    "    y_predicted = tf.placeholder(\"float32\", shape=(None,), name=\"y_predicted\")\n",
    "    # Implement MSE(y_true, y_predicted), use tf.reduce_mean(...)\n",
    "    \n",
    "    mse =  tf.reduce_mean( tf.abs(y_true - y_predicted) ** 2 )\n",
    "\n",
    "def compute_mse(vector1, vector2):\n",
    "    return mse.eval({y_true: vector1, y_predicted: vector2})"
   ]
  },
  {
   "cell_type": "code",
   "execution_count": 16,
   "metadata": {},
   "outputs": [
    {
     "name": "stdout",
     "output_type": "stream",
     "text": [
      "Tensor(\"MSE/Mean:0\", shape=(), dtype=float32)\n"
     ]
    }
   ],
   "source": [
    "print(mse)"
   ]
  },
  {
   "cell_type": "code",
   "execution_count": 17,
   "metadata": {},
   "outputs": [],
   "source": [
    "writer.add_graph(mse.graph)\n",
    "writer.flush()"
   ]
  },
  {
   "cell_type": "code",
   "execution_count": 18,
   "metadata": {},
   "outputs": [
    {
     "name": "stdout",
     "output_type": "stream",
     "text": [
      "[0 1]\n",
      "[1 2]\n",
      "1.0\n"
     ]
    }
   ],
   "source": [
    "a = np.arange(2)\n",
    "b = a+1\n",
    "print(a)\n",
    "print(b)\n",
    "res = mse.eval({y_true: b, y_predicted: a})\n",
    "print(res)"
   ]
  },
  {
   "cell_type": "code",
   "execution_count": 19,
   "metadata": {},
   "outputs": [],
   "source": [
    "# Rigorous local testing of MSE implementation\n",
    "import sklearn.metrics\n",
    "for n in [1, 5, 10, 10**3]:\n",
    "    elems = [np.arange(n), np.arange(n, 0, -1), np.zeros(n),\n",
    "             np.ones(n), np.random.random(n), np.random.randint(100, size=n)]\n",
    "    for el in elems:\n",
    "        for el_2 in elems:\n",
    "            true_mse = np.array(sklearn.metrics.mean_squared_error(el, el_2))\n",
    "            my_mse = compute_mse(el_2, el)\n",
    "            if not np.allclose(true_mse, my_mse):\n",
    "                print(n, el)\n",
    "                print('mse(%s,%s)' % (el, el_2))\n",
    "                print(\"should be: %f, but your function returned %f\" % (true_mse, my_mse))\n",
    "                raise ValueError('Wrong result')"
   ]
  },
  {
   "cell_type": "markdown",
   "metadata": {},
   "source": [
    "# Variables\n",
    "\n",
    "Placeholder and transformation values are not stored in the graph once the execution is finished. This isn't too comfortable if you want your model to have parameters (e.g. network weights) that are always present, but can change their value over time.\n",
    "\n",
    "Tensorflow solves this with `tf.Variable` objects.\n",
    "* You can assign variable a value at any time in your graph\n",
    "* Unlike placeholders, there's no need to explicitly pass values to variables when `s.run(...)`-ing\n",
    "* You can use variables the same way you use transformations \n",
    " "
   ]
  },
  {
   "cell_type": "code",
   "execution_count": 20,
   "metadata": {},
   "outputs": [],
   "source": [
    "# Creating a shared variable\n",
    "shared_vector_1 = tf.Variable(initial_value=np.ones(5),\n",
    "                              name=\"example_variable\")"
   ]
  },
  {
   "cell_type": "code",
   "execution_count": 21,
   "metadata": {},
   "outputs": [
    {
     "name": "stdout",
     "output_type": "stream",
     "text": [
      "Initial value [1. 1. 1. 1. 1.]\n"
     ]
    }
   ],
   "source": [
    "# Initialize variable(s) with initial values\n",
    "s = tf.Session()\n",
    "s.run(tf.global_variables_initializer())\n",
    "\n",
    "# Evaluating the shared variable\n",
    "print(\"Initial value\", s.run(shared_vector_1))\n",
    "s.close()"
   ]
  },
  {
   "cell_type": "code",
   "execution_count": 22,
   "metadata": {},
   "outputs": [
    {
     "name": "stdout",
     "output_type": "stream",
     "text": [
      "New value [0. 1. 2. 3. 4.]\n"
     ]
    }
   ],
   "source": [
    "# Setting a new value\n",
    "s = tf.Session()\n",
    "s.run(shared_vector_1.assign(np.arange(5)))\n",
    "\n",
    "# Getting that new value\n",
    "print(\"New value\", s.run(shared_vector_1))\n",
    "s.close()"
   ]
  },
  {
   "cell_type": "markdown",
   "metadata": {},
   "source": [
    "# tf.gradients - why graphs matter\n",
    "* Tensorflow can compute derivatives and gradients automatically using the computation graph\n",
    "* True to its name it can manage matrix derivatives\n",
    "* Gradients are computed as a product of elementary derivatives via the chain rule:\n",
    "\n",
    "$$ {\\partial f(g(x)) \\over \\partial x} = {\\partial f(g(x)) \\over \\partial g(x)}\\cdot {\\partial g(x) \\over \\partial x} $$\n",
    "\n",
    "It can get you the derivative of any graph as long as it knows how to differentiate elementary operations"
   ]
  },
  {
   "cell_type": "code",
   "execution_count": 23,
   "metadata": {},
   "outputs": [
    {
     "name": "stdout",
     "output_type": "stream",
     "text": [
      "WARNING:tensorflow:From d:\\projects\\ml\\advanced_ml\\venv\\lib\\site-packages\\tensorflow_core\\python\\ops\\math_grad.py:1375: where (from tensorflow.python.ops.array_ops) is deprecated and will be removed in a future version.\n",
      "Instructions for updating:\n",
      "Use tf.where in 2.0, which has the same broadcast rule as np.where\n"
     ]
    }
   ],
   "source": [
    "my_scalar = tf.placeholder('float32')\n",
    "\n",
    "scalar_squared = my_scalar**2\n",
    "\n",
    "# A derivative of scalar_squared by my_scalar\n",
    "derivative = tf.gradients(scalar_squared, [my_scalar, ])"
   ]
  },
  {
   "cell_type": "code",
   "execution_count": 24,
   "metadata": {},
   "outputs": [
    {
     "data": {
      "text/plain": [
       "[<tf.Tensor 'gradients/pow_1_grad/Reshape:0' shape=<unknown> dtype=float32>]"
      ]
     },
     "execution_count": 24,
     "metadata": {},
     "output_type": "execute_result"
    }
   ],
   "source": [
    "derivative"
   ]
  },
  {
   "cell_type": "code",
   "execution_count": 25,
   "metadata": {},
   "outputs": [
    {
     "data": {
      "image/png": "[encoded data removed]",
      "text/plain": [
       "<Figure size 432x288 with 1 Axes>"
      ]
     },
     "metadata": {
      "needs_background": "light"
     },
     "output_type": "display_data"
    }
   ],
   "source": [
    "import matplotlib.pyplot as plt\n",
    "%matplotlib inline\n",
    "s = tf.Session()\n",
    "x = np.linspace(-3, 3)\n",
    "x_squared, x_squared_der = s.run([scalar_squared, derivative[0]],\n",
    "                                 {my_scalar:x})\n",
    "\n",
    "plt.plot(x, x_squared,label=\"$x^2$\")\n",
    "plt.plot(x, x_squared_der, label=r\"$\\frac{dx^2}{dx}$\")\n",
    "plt.legend();\n",
    "s.close()"
   ]
  },
  {
   "cell_type": "markdown",
   "metadata": {},
   "source": [
    "# Why that rocks"
   ]
  },
  {
   "cell_type": "code",
   "execution_count": 26,
   "metadata": {},
   "outputs": [],
   "source": [
    "my_vector = tf.placeholder('float32', [None])\n",
    "# Compute the gradient of the next weird function over my_scalar and my_vector\n",
    "# Warning! Trying to understand the meaning of that function may result in permanent brain damage\n",
    "weird_psychotic_function = tf.reduce_mean(\n",
    "    (my_vector+my_scalar)**(1+tf.nn.moments(my_vector,[0])[1]) + \n",
    "    1./ tf.atan(my_scalar))/(my_scalar**2 + 1) + 0.01*tf.sin(\n",
    "    2*my_scalar**1.5)*(tf.reduce_sum(my_vector)* my_scalar**2\n",
    "                      )*tf.exp((my_scalar-4)**2)/(\n",
    "    1+tf.exp((my_scalar-4)**2))*(1.-(tf.exp(-(my_scalar-4)**2)\n",
    "                                    )/(1+tf.exp(-(my_scalar-4)**2)))**2\n",
    "\n",
    "der_by_scalar = tf.gradients(weird_psychotic_function, my_scalar)\n",
    "der_by_vector = tf.gradients(weird_psychotic_function, my_vector)"
   ]
  },
  {
   "cell_type": "code",
   "execution_count": 27,
   "metadata": {},
   "outputs": [
    {
     "data": {
      "image/png": "[encoded data removed]",
      "text/plain": [
       "<Figure size 432x288 with 1 Axes>"
      ]
     },
     "metadata": {
      "needs_background": "light"
     },
     "output_type": "display_data"
    }
   ],
   "source": [
    "# Plotting the derivative\n",
    "scalar_space = np.linspace(1, 7, 100)\n",
    "s = tf.Session()\n",
    "y = [s.run(weird_psychotic_function, {my_scalar:x, my_vector:[1, 2, 3]})\n",
    "     for x in scalar_space]\n",
    "\n",
    "plt.plot(scalar_space, y, label='function')\n",
    "\n",
    "y_der_by_scalar = [s.run(der_by_scalar,\n",
    "                         {my_scalar:x, my_vector:[1, 2, 3]})\n",
    "                   for x in scalar_space]\n",
    "\n",
    "plt.plot(scalar_space, y_der_by_scalar, label='derivative')\n",
    "plt.grid()\n",
    "plt.legend();\n",
    "s.close()"
   ]
  },
  {
   "cell_type": "markdown",
   "metadata": {},
   "source": [
    "# Almost done - optimizers\n",
    "\n",
    "While you can perform gradient descent by hand with automatic gradients from above, tensorflow also has some optimization methods implemented for you. Recall momentum & rmsprop?"
   ]
  },
  {
   "cell_type": "code",
   "execution_count": 28,
   "metadata": {},
   "outputs": [],
   "source": [
    "y_guess = tf.Variable(np.zeros(2, dtype='float32'))\n",
    "y_true = tf.range(1, 3, dtype='float32')\n",
    "\n",
    "loss = tf.reduce_mean((y_guess - y_true + 0.5*tf.random_normal([2]))**2) \n",
    "\n",
    "step = tf.train.MomentumOptimizer(0.03, 0.5).minimize(loss, var_list=y_guess)"
   ]
  },
  {
   "cell_type": "markdown",
   "metadata": {},
   "source": [
    "Let's draw a trajectory of a gradient descent in 2D"
   ]
  },
  {
   "cell_type": "code",
   "execution_count": 30,
   "metadata": {},
   "outputs": [
    {
     "data": {
      "image/png": "[encoded data removed]",
      "text/plain": [
       "<Figure size 432x288 with 1 Axes>"
      ]
     },
     "metadata": {
      "needs_background": "light"
     },
     "output_type": "display_data"
    }
   ],
   "source": [
    "from matplotlib import animation, rc\n",
    "import matplotlib_utils\n",
    "from IPython.display import HTML, display_html\n",
    "\n",
    "# nice figure settings\n",
    "fig, ax = plt.subplots()\n",
    "s = tf.Session()\n",
    "y_true_value = s.run(y_true)\n",
    "level_x = np.arange(0, 2, 0.02)\n",
    "level_y = np.arange(0, 3, 0.02)\n",
    "X, Y = np.meshgrid(level_x, level_y)\n",
    "Z = (X - y_true_value[0])**2 + (Y - y_true_value[1])**2\n",
    "ax.set_xlim(-0.02, 2)\n",
    "ax.set_ylim(-0.02, 3)\n",
    "s.run(tf.global_variables_initializer())\n",
    "ax.scatter(*s.run(y_true), c='red')\n",
    "contour = ax.contour(X, Y, Z, 10)\n",
    "ax.clabel(contour, inline=1, fontsize=10)\n",
    "line, = ax.plot([], [], lw=2)\n",
    "\n",
    "# start animation with empty trajectory\n",
    "def init():\n",
    "    line.set_data([], [])\n",
    "    return (line,)\n",
    "\n",
    "trajectory = [s.run(y_guess)]\n",
    "\n",
    "# one animation step (make one GD step)\n",
    "def animate(i):\n",
    "    s.run(step)\n",
    "    trajectory.append(s.run(y_guess))\n",
    "    line.set_data(*zip(*trajectory))\n",
    "    return (line,)\n",
    "\n",
    "anim = animation.FuncAnimation(fig, animate, init_func=init,\n",
    "                               frames=100, interval=20, blit=True)\n"
   ]
  },
  {
   "cell_type": "code",
   "execution_count": 31,
   "metadata": {},
   "outputs": [
    {
     "data": {
      "text/html": [
       "<img src=\"data:image/jpeg;base64,/9j/4AAQSkZJRgABAQEASABIAAD/2wBDAAIBAQEBAQIBAQECAgICAgQDAgICAgUEBAMEBgUGBgYFBgYGBwkIBgcJBwYGCAsICQoKCgoKBggLDAsKDAkKCgr/2wBDAQICAgICAgUDAwUKBwYHCgoKCgoKCgoKCgoKCgoKCgoKCgoKCgoKCgoKCgoKCgoKCgoKCgoKCgoKCgoKCgoKCgr/wAARCAEgAbADASIAAhEBAxEB/8QAHwAAAQUBAQEBAQEAAAAAAAAAAAECAwQFBgcICQoL/8QAtRAAAgEDAwIEAwUFBAQAAAF9AQIDAAQRBRIhMUEGE1FhByJxFDKBkaEII0KxwRVS0fAkM2JyggkKFhcYGRolJicoKSo0NTY3ODk6Q0RFRkdISUpTVFVWV1hZWmNkZWZnaGlqc3R1dnd4eXqDhIWGh4iJipKTlJWWl5iZmqKjpKWmp6ipqrKztLW2t7i5usLDxMXGx8jJytLT1NXW19jZ2uHi4%2BTl5ufo6erx8vP09fb3%2BPn6/8QAHwEAAwEBAQEBAQEBAQAAAAAAAAECAwQFBgcICQoL/8QAtREAAgECBAQDBAcFBAQAAQJ3AAECAxEEBSExBhJBUQdhcRMiMoEIFEKRobHBCSMzUvAVYnLRChYkNOEl8RcYGRomJygpKjU2Nzg5OkNERUZHSElKU1RVVldYWVpjZGVmZ2hpanN0dXZ3eHl6goOEhYaHiImKkpOUlZaXmJmaoqOkpaanqKmqsrO0tba3uLm6wsPExcbHyMnK0tPU1dbX2Nna4uPk5ebn6Onq8vP09fb3%2BPn6/9oADAMBAAIRAxEAPwD9/KKKKACiiigAooooAKKKKACiiigAooooAKKKKACiiigAooooAKKKKACiiigAooooAKKKKACiiigAooooAKKKKACiiigAooooAKKKKACiiigAooooAKKKKACiiigAooooAKKKKACiiigAooooAKKKKACiiigAorj/AAR%2B0J8A/iZ431n4Z/Dj44eD/EHiTw5JJH4h8P6J4ltbu%2B0t0kMTrcQRSNJAVkBQh1GGG088VZtfjb8Gb74p3PwLsvi54Ym8b2dgL288HRa/btqsFqQpE72gfzljIdPnK7fmXnkUAdPRRRQAUUUUAFFFFABRRRQAUUUUAFFFFABRRRQAUUUUAFFFFABRRRQAUUUUAFFFFABRRRQAUUUUAFFFFABRRRQAUUUUAFFFFABRRRQAUUUUAFFFFABRRRQAUUUUAFFFFABRRRQAUUUUAfIz%2BIrvxH/wUT0j40aVp3xZ1nw/4Z8Ia/pWr2XiP4WX%2Bn6b4Ukmn0yMNpUo06CbVWu5bUtJiS%2BRUQyxvbxjbLy/g34f/EGL9qTw98N5vhR4oi17Qf2nfEnj3WvGcvhq6TSpvDt5oWp29tImpmP7NPIVvbDT/sqyGZfszMYxHCr19w0UAeIftr%2BO/wBp34WeFtF8bfAPx94D022ufF/hzw/qFj4v8B3uqyO%2Bq67Y6X9ojlttVsxGIkvDJ5ZR95jA3oDkWf8AhB/%2BChf/AEdB8Gf/AAw%2Brf8AzUUft4f8kQ0P/ss3w4/9TXRK9moA8Z/4Qf8A4KF/9HQfBn/ww%2Brf/NRVbWfD/wC3n4d0m51/xB%2B1r8ELGxsoHnvL28%2BB2qRQwRKCzO7t4pCqoAJJJAAFdx8O/jhpnj/4geJPhtceDdb0HU/DxjkSPXIoY/7StHkliW8txHK5aEywSplgrcKSoDqT4b4v8M/GDw/pPib4ffGnRr7V9N%2BIPieXw3aeMZfGLz3CpePIbGSHS0hWG2ghZkicxsJSFMzAqpNdVLCuU%2BWbtt2vZ9u%2Bnz8t7c1TEKMOaKvv967/AD%2BXmZ2vfGn9u3V7fwuvwF/aY%2BAXja48U6jdW1lj4T6rZwILaBppw0v/AAkcp80KAFiKgtuBJVQXHX/CHVv28vjF8PNP%2BIOiftKfCG1S8EsdzYXnwE1ZZrK6hleC4tpB/wAJRxJFNHJG2OMoccVR8MfB/wCKnxh%2BIt14q8Y%2BCtU8Barpthpl02u77WWOXxJamaJrq2jjkbzbd7WaWJ94TelwydVJT2v4L/C6b4UeE7jR9R8RDV9S1LV7vVdY1NLFbVLi7uZTJIyQqWEaDIAXcxwuSzEknTE08LTp8sH72nW/fqtO3Z%2BWukUJ4ic7yXu%2Blu3z7%2BXnpr4T4JT/AILGeIfidq%2BjeLPFnwF8P%2BELCeaHTdfn%2BHGqXN9qe1sRzJZxeISsUbgE/vJw4yPk6477/hB/%2BChf/R0HwZ/8MPq3/wA1FezUVyTkpu6il6X/AFbOqEXFau/rb9Ejxn/hB/8AgoX/ANHQfBn/AMMPq3/zUUf8IP8A8FC/%2BjoPgz/4YfVv/mor2asXx78Sfh38K/D8niv4nePNG8O6XF/rNR1zU4rSBe/Lysq/rUxjKTsldlHmf/CD/wDBQv8A6Og%2BDP8A4YfVv/moo/4Qf/goX/0dB8Gf/DD6t/8ANRXNTf8ABS34P%2BMJ3079mb4aeP8A4v3KuY/tHgXwrL/ZqSZwA%2Bo3ZgtQv%2B0sjfQ4po8Uf8FQPirzoHwu%2BGHwksJPlaXxRrVx4k1SMf3hDZiC2VvYzOM%2BvWuz%2Bz8RH%2BLaH%2BJpP/wH4vuRHPHpqdP/AMIP/wAFC/8Ao6D4M/8Ahh9W/wDmorM8Vp%2B2x4E006z44/bO%2BA2jWa/eu9V%2BC2pW8Q/4FJ4qA/Ws0fsP/GTx3%2B9/aB/b/wDijrmfvad4Ke18LWTL3UiyjNwR9ZycHkmtTwr/AMEyf2FPC2pDXbj9nPRfEGo8F9S8aSTa7cO3XcX1CSY5zzxjHbFHssFD46rf%2BGOn3ycX%2BAXm9keMeKP%2BCgWq%2BFtROjn/AIKd/s8axejI%2BxeE/gRrmtzE%2BgTT/EsxJ7YxWb/w23%2B3tr3/ACS/w/qXipH/ANRd2v7IGtadbS%2BhEupeLbYbffn6V9veF/BvhDwRpw0fwX4V03SLRfu2ul2MdvGP%2BAxgCtKj2uAj8NNv1lp9yin%2BIWm%2Bp8Ix/F//AIL7684bwr%2Bz38IrSFz8k3i7w%2B1kcepS18TXbD6EZruvhlZf8Fzdd8Q2v/C2PGP7LHh3Rn3fbJNJ8HeItSvY/kO3bE2pwRt820H96MAk8kAH60oqJ4ilKNlSivNc36yaGovueM/8IP8A8FC/%2BjoPgz/4YfVv/moo/wCEH/4KF/8AR0HwZ/8ADD6t/wDNRXs1FcpR4z/wg/8AwUL/AOjoPgz/AOGH1b/5qKP%2BEH/4KF/9HQfBn/ww%2Brf/ADUV7NRQB4z/AMIP/wAFC/8Ao6D4M/8Ahh9W/wDmoo/4Qf8A4KF/9HQfBn/ww%2Brf/NRXs1FAHjP/AAg//BQv/o6D4M/%2BGH1b/wCaij/hB/8AgoX2/ag%2BDP8A4YfVv/mor2aigD4s8Q33/BwfoO6TTLX9kzXUH3UsNJ8RQSEe4nvlUH/gRrD/AOF%2Bf8FyPDf774i/s6eCRbr9%2Bfwb4Aj1c/8AAY38X28h/wC%2BRX3fRXYsTRSs6MX85/8AyVvwJ5X3/I%2BW/gN8Qv8AgoT8ddN1G%2Bfx34X8Fy6bOkUtl48/Zk1fT5ZiwJ3QkeLHSZRjBZGIBIFafxE13/goF4B8U%2BDfB0f7QPwb1C98ZeIX0y2A%2BCuqwi1jjsrm7muWz4lbzAqW%2B3Z8uWkX5hX0jXnfjv8AZx0Lxv8AF7Q/janxD8WaXrPh%2BCaKwt7DV1ewKyxNHIWtLhJIQxU8uiq/yj5uuYpyoOs5NWVnZb620/EHex4P8evjL/wUN%2BDWo3mm6L8XPhF4ifQvDkniPxY8PwY1K2XStJQuGny/ic%2BdKfKmKwqAWETcjjOpB8Z/2r7j4nW/wnj/AGsfhUdRuLpLNLr/AIZu177Et81qLtbJrn/hJvKW5NuRL5RbO33GK7r4ufsreNviJ4mvZ9J%2BKNpa6T4q0Gx0fx0l1oxe8ure1lkk3W0iSJHCZlkaJ1aNlCsWXDZzxeo/AD9oddW17wzofh3T7Ow0/wAUa34s0PxF/aan%2B0b6WAppdsIRmSPydyrK78EQLtyHITrp0cDUpJc2tu9u3fs76LpZktzTN/wnrP7YHjzVtT0HwR%2B3F%2Bz9rF9ok4h1my0z4OajPNYSEkBJkTxUWiJKtgMBnB9K3f8AhB/%2BChf/AEdB8Gf/AAw%2Brf8AzUVy37IHg7VJPGeia/o3gvXvD3hzwh8J9P8ACyQ%2BI9Dl0661DUjMJrl3imVXkEQjTE2NrvdTlGYEsfQfiN%2B2Z%2By/8H/ihB8Hfi18ZdJ8L69dWkdzaReIWeztp0csFCXUqrAz5U5QSbhkZA3DPPWwslXdOinKyvtd/h/S2KUvduzH/wCEH/4KF/8AR0HwZ/8ADD6t/wDNRR/wg/8AwUL/AOjoPgz/AOGH1b/5qK9f0zU9N1rT4dW0bUYLu1uIw9vc20yyRyqejKykhh7ip649ijxn/hB/%2BChf/R0HwZ/8MPq3/wA1FcD4EX/gsZqPxP1Twh8SPFnwF0nw9BBJNo/i7R/hxql9Hd4lVUhktn8QwywylGLnAeMbGG8/Lu%2BpKKuMlFNOKd/XT0s/zuTKLbTTtb01/D8j5q%2BOev8A/BQ74MfDu48Z2fx4%2BC%2Bu6g91b2Oj6H/wprVrRtQvbiVYYIFk/wCEjl2lpHUE7DhdzHABq78QvEH7YXwj0i0134q/tsfATw9aXt7HZwXeq/BTVIYWnfO1N7%2BKQBnB5OBx2r0H4p/AbVPH/wATPDHxT0v4l6jaS%2BFrs3Vv4avYY7nSLubyLiFZni2rIkyi4YrIkgAwCVYgY4f9pWH4j6/4l8Nr4Y%2BFvipvFuhXkEnh3WNLeCbQbj7SI7e%2BjuxIWKRLDJPkyRI5UZhYudo6qVKjV5IX7tvb0WvTrfWyb7HNUqVafNK3a3X1en5abeZq2nhH/goBf2sV9Y/tU/BWaCaNZIZovgVqrJIhGQykeKcEEHIIqT/hB/8AgoX/ANHQfBn/AMMPq3/zUV51qPxh1rQNe0z4tRfEq50Lw3beKtStLHwlZ28MenweGdKW4TULuaLZv3b4HdXBG0JGqcOQ3sHwf%2BPPib4geMpvBPjn4YN4YvZfDltr2l20urC4neymkePbcxiNfs0yumDHlx83DkqyrNXB1aceZar%2Bl87dbXKp4qnUly9f6%2B7yucTqXjH9s34S/Gn4VeGvij8W/hh4l8P%2BPPGt3oOp2mgfC7UdIvLcR%2BH9X1OOaK4m1y7QHzdOjRlaE5WRsFSAa%2Bga8Z/ag/5Lf%2Bzj/wBlmvv/AFCvFFezVyHSFFFFABRRRQAUUUUAFFFFABRRRQB4z%2B3h/wAkQ0P/ALLN8OP/AFNdErqPAf7R/wAOvid8WPEPwi8Cw6vqFz4VDR69rMekSrpltdq4VrIXLAJJcLu3FE3bQDkgjFcv%2B3h/yRDQ/wDss3w4/wDU10SvZURIxhECgkkgDHJ5Jq4uCT5ld9Ndv8/wJkptqz9TzH4tfCL4m%2BLvjN4P%2BJPw08X6R4d/sSzvLTXNRubF7u5vrOcxMbNItyRqN8SyCZ2bYyDEbBmz1Np8IfACeJrDx3rHh%2B31bxFptq1vZ%2BIdVt45byFGZiwR9oEedxB2BcjAPAFdNRVOvUcFG%2Byt/T%2BZKpQUnLvr/X3BVfVtX0rQNLuNc13U7eysrSFpru8u5ljigjUZZ3diAqgAkknAAqp40HjJvCmoL8PZNNTXDbMNLfWI5HtVmx8plWNldl9QrAnpkda8ZbWfE/7Sn7KnjP4afEC90rS/Gmkvd6B4l%2BQw2I1GEq8MoWRmKW1zG1vMo3MRHcbdxZc1VKj7Rczel0n3V%2BvoW3Y3vHv7Vuj29v4aX4DaNp/xEuPE8d/Pp/8AZPiKGO2kgs4FmmCThZEeciSMRw8btxYsqozDx7xB%2B0T4z1fxB43%2BN/gr4j61G3hK00rXdI8E301vFYat4ZJWO/iEZTcL5bi31GEuWYxyxwLny5ADp%2BFPhF8QPjD8Ytf8Y2fg7XfhxdQDTdWkv9R09GiTxPBI8E8luqybbu2uLKOKOZl2hl2YfeX2es%2BBv2VPhxp3gnTvD/xZ8PaF411Kx1y81galqfh6IRQ3tzcyXDm3hkMpgjV5CETe5QKnzEqDXpXwOESTV3pfrvq/La0dLPd9jP35HdeMdAufGvgnUvDWneKNT0ObVNOlt4NY0orHeWLSIVE0XmoyrIuQw3KQCOQeleQeAf8AgnF%2Byj4P8QR%2BOfFnge6%2BIHihOW8VfE3U5devi3ZlN0WjhI7eUiAdhXutFebTxNejBxpyaT3tpf8ArsaOMW7sZBBBawJbW0KRxxqFjjjUBVUcAADoKfRRWAwoorD%2BIHxO%2BG3wm8PyeLPin8QdE8NaVF/rNS1/VYbO3XvzJKyqPzpxjKTsldgk29Dcor5ou/8Agq1%2BzJ4hupNL/Z58P%2BPvjFexOUkj%2BFnge71G2Rhx817IsVmBnv52BTB8eP8Agpp8Tf3fww/YZ8J%2BBLZ/mh1T4sfElJJdvYmy0mG4KnH8JmB7HHWuz%2Bz8UvjSh/iaj%2BDab%2BSNPZT66euh9NUV8zD4Cf8ABTjx7/pPj/8Ab58KeDUfiTTfhp8J4ZNo7hbnVbi4P4%2BUPWl/4dsDxB%2B8%2BKv7dX7Q3icvzcW//CyDpNtJ6jytLhtsL7Emj6tho/HWXyUn%2BaS/EOSC3l%2BZ9Lsyopd2AAGSSeAK5fxD8c/gn4SZl8V/GHwtphX7w1DxDbQ4%2Bu9xXiSf8Egv%2BCe1ywl8U/Au58Sy5y83i7xlq%2BrFz6kXd3Iv5DFdT4e/4Jq/8E9fC6qNI/Yj%2BFYZfuyXPgWxncf8CliZv1o5MuX25v8A7dS/9vYWo9393/BNfUv27/2HtGYrrH7ZfwptCOoufiJpiY/76nFZUv8AwUl/4J5wttf9ub4RnH9z4iaa38pq6vTf2Tf2V9GULo/7NHw/tAOgtvBljHj/AL5iFakXwG%2BBsC7YPgx4TQeieHbYf%2ByUXy5dJ/ev8mH7nzODt/8Ago//AME97ptsX7c3whyegf4j6Yv85xW1pP7bH7GmvME0P9rf4Y3pPQWnj3TpM/8AfMxroLj9n/4DXi7Lv4JeEZQeok8N2rfzjrE1X9jb9kHXVK65%2Byp8NrwN94XfgbT5M/8AfUJovlz6TXzT/RB%2B58zrfDnxN%2BG/jEhfCPxB0PVS33RpurQz5/74Y1uV4J4j/wCCWf8AwTi8UgjU/wBiP4aRbup03wnbWZ/O3VMVhn/gkf8AsS6Z%2B%2B%2BH3hXxh4NuB/q7nwb8T9d04x/7qR3nlj/vmjky5/bkv%2B3U/wD2/wDQLUu7%2B7/gn0vRXzP/AMO%2Bfif4UH2j4Pf8FIvjxos6/wCqi8R63YeIrZfqmo2kkjfjJSf8K2/4Kw/Dv/kU/wBp34R/EeHr5Pjr4f3eiXBHp5%2Bm3MkYP%2B15GP8AZo%2Bq0JfBWj6NST/K34hyRe0l%2BJ9M0V8yn9rn9t/4Z/8AJd/%2BCb%2Bt6lZw8Ta18IfGljrqv/tLZ3X2O5A9grn6nitPwd/wVO/Ym8Qa9F4M8a/FSf4eeIZTg%2BHvinol14bulbptBv4443OcD5Hbk4pPL8Xa8Y8y/utS%2B/lbt8w9lU6K/pr%2BR9D0VX0rVtL13TodX0TUre8tLiMPb3VrMskcqnoyspIYe4qxXHsZhWd4q8IeE/HWiTeGfG3hjTtY024GLjT9Vso7iCUejRyAq34itGimm07oD511L/gml8FPDGoT%2BJf2YPGPi34M6vNIZXf4e600WnTSdR52mTiSzkUH%2BERL9RVdvGH/AAUa/Z7/AOR5%2BH/hv45eHYfv6t4MK6F4hSMcl3sLh2tblsdFhmiJ7L2P0lRXZ9frT0rJTX97V/8AgWkvxt5EciW2h5F8EP25P2c/jv4gbwBoXi6fQvGMA/0zwJ4ysJNJ1q3PUj7LcBWlA7tFvT/ar12uI%2BOH7NnwJ/aS8Pr4Z%2BOHwu0nxFbwndaS3tvi4s3/AL8E6ES27/7UbK3vXjz/AAX/AG0/2Vv9O/Zv%2BJ7/ABY8Iwct8OviZqezVbeMfwWGs4yx6BY7tXAAx5g60/ZYTEfwpcj7S2%2BUtP8AyZJL%2BZheS31PpiivI/gD%2B2j8IPjzr9x8OCmp%2BEvHunRb9W%2BHnjKz%2Bw6tbDvIkbErcw8ZE0DSIQQcjOK9crlq0atCfJUVn/X4eZSakro868cfsufB7xX4d8X6bongzStB1LxpaNHrGuaXpUK3E0hYOJX%2BXEp8wK7BuHI%2BbNXfhL8INR8Ca3rfjzxp4yPiLxT4jFrHqmrLY/ZYVt7ZXWC2ggDv5USNLO%2BCzEvPISxzx3FFU69ZwcG9H/wOu/RfcjNUaSnzJa/8P/m/vPGP2nWL/G39nIlCv/F578YPt4K8Uc17PXjP7UH/ACW/9nH/ALLNff8AqFeKK9mrE1CiiigAooooAKKKKACiiigDwfwp8Zv2gtD/AGz7f9nT4heIPA/iTS9Z8I6r4iWLwr4cvLG%2B8K20F7bQWK30s17cR3QuhNcKjrHakvYzFEkVZDFhfCz9qf4u67%2B2l4q%2BBvxY8TaJ4Z0W38T3Om%2BANAv/AIT63aXPie2i0u3uzcWuvT3Y0%2B7kV2uy1vBA0gjtXJACM46L4TfsS3nwc%2BIXjf4jeHP2svibd3Xj7XJ9V1uDVrbw7OFndkESxzf2QLjyreFFt4YnldI4uApb563779lqDxF8ctF%2BNfj343%2BNfEUPhbWrnV/CPg7Ujpkek6LfTWdxZNPF9msorqYrbXd1GgubiZVE7EDcqMoBxn/BQv4ufCjw14P8GfCjxH8TvD2n%2BKfEHxh%2BHsug%2BGr3WoItQ1JI/GejNI1vbs4kmCqrFiikAKScYNfQ9eM/t4f8kQ0P/ss3w4/9TXRK9moAK4346/H74T/s3eApviP8YPFkWl6ekqwW0YRpLi%2BuG4jtreFAXnmc8LGgJPJ6AkZH7Tn7TPhD9mbwVba1q2lXmua/rd6NO8HeD9IAa/17UGHyW8K9gPvPIfljQFm7A8R%2Bz/8AspeL9S8ewftUfti6nZ%2BI/iY8TDQ9JtiX0jwTbv1tdPRuGmIwJbtv3khGFKpw3ZRw8FT9tWdo9Et5eS7Lu9l5vQlyd7I9A/Zz%2BJfxc%2BLfg268cfFX4KTeA47zUGbw7ompais2onT9ieXLexouy2nZt5MIZygKhjuBpNH/AGZfhdpvxi1v47ajb3%2Bq%2BIdcEKSyapftJbWsUSqsSQ2y7YVK7ciUo0vJBkI4r0GisXWkpydP3U9LK%2B3bXUdtNQooorEYUUV4j%2B0d%2B3J4E%2BCfi63%2BCfw%2B8Jap8SPipqVv5ulfDjwmUa6SM4xc3szHytOtckZmnI4Pyq%2BMVrRo1a8%2BSmrv%2BtX2Xm9CoxlJ2R7ZJJHDG000ioiKSzMcAAdSTXzp44/4KW/CGfxTd/C/9lvwb4h%2BN/jC0k8q60v4cW6Tafp8vYXuqystlajPBBkZ1I5SsO1/Ym%2BOP7Vci%2BJP%2BCi3xa%2B26PKwkt/gr8Pr2ey8PW69Ql/cqVudWcYXIcxwbgcREGvpLwJ4A8C/C/wraeBvht4N0vw/othH5dlpOjWEdtbQL6JHGAq/gK6eXB4f4n7SXZaRXq938rLtJl2pw31f4f1/Vz52X4Wf8FLP2if9I%2BLnx48PfBHw/P8Ae8M/C2zXVtbMR6pLq19H5MMg/vW9sfZ63/h9/wAEwP2NPBniCPx14s%2BGcvxC8Urgv4t%2BKeqTeIr9mzneGvWdIT/1yRAOwr6BoqZY/EW5ab5F2jp97Wr%2BbYnVnstPQjs7O00%2B1jsbC1jgghQJFDCgVEUcAADgAegqSiiuMzCiiigAooooAKKKKACiiigAooooAKKKKACsrxl4F8E/EXQZfC3xB8HaVrumTjE%2Bm6zp8V1BJ/vRyqyn8RWrRTTcXdBsfNOq/wDBLH9nvw5qM3ib9l/xR4y%2BCWszSGV5/hf4iktLGZ%2Bo87TJhJZSLnqvkjI7jgio/iD/AIKgfs3fN4m8LeE/2hPDUP377w6E8NeJ406l2tZWaxuyB/DHJAWPReQK%2BoaK7Fj60tK1pr%2B9q/8AwLSS%2BTsae1k/i19f89zxf4C/t9/s3fH7xQ/wz0zxJfeFvHUC5vPh3480yTR9cg6ni2nx564Gd8BkT/ar2iuC%2BP37L/wA/aj8Lp4R%2BPfwr0rxHawtvspruErc2MnXzba4jKzW0gwPnidW968Pl8A/tzfsRD%2B0PhD4m1L4%2BfDW25n8FeKr5F8XaTCOv2HUW2pqSqMkQXW2UhVVZiTVexwuI/gy5Zfyyej9JaL5SS9WPlhP4XZ%2Bf%2Bf%2BZ9W0V53%2Bzf8AtUfBX9qvwlP4q%2BEHid55dOuPsuv6FqNs9pqeiXYzutr21kAkt5QQRhhg4JUsOa9ErjqU6lKbhNWa6MzacXZhRRRUCPPf2gv2Xfgr%2B05oFvo3xX8KefdadL52h6/p87Wup6POMFZ7S6jIkgcEA/KcHA3BhxXjo%2BMv7RH7CU6aT%2B1VfXfxC%2BFauI7P4u6fYf8AEz0GPOFXW7WIYkjA4%2B2wrjjMiKWzX1JTLi3guoHtbqFJIpEKSRyKCrKRggg9QR2rro4txh7OouaHZ9POL6P8H1TJcbu63K3h3xFoHi7QrPxR4V1u01LTdQt0uLDULC4WaG4iYZWRHUlWUgggg4NXK%2BVPF3wq%2BIH/AAT31y8%2BMf7MXh29134TXVy9346%2BEdiu%2BXRQx3S6noiH7uOXlshhHG4x7WwB9IfDb4keBfi/4E0r4m/DPxPa6zoOt2a3WmalZPujnjbv6gg5BUgFWBBAIIpV8OqcVUpvmg9n1T7NdH%2BD3QRlfR7nmn7UH/Jb/wBnH/ss19/6hXiivZq8Z/ag/wCS3/s4/wDZZr7/ANQrxRXs1cpQUUUUAFFFFABRRRQAUUUUAFFFFAHjP7eH/JEND/7LN8OP/U10SvRPi18VPA/wP%2BGmufFz4la0mn6F4e06S91K6cZKxoM7VHVnY4VVHLMwUckV53%2B3h/yRDQ/%2ByzfDj/1NdErjvj/bD9qL9svwj%2ByvJ%2B%2B8H/D6yg8dfEWAcx3t35rR6Np8nYr5sc126MCGFvHnrXThaMa1X39IpXfov1ey82iZOy0Lv7I3wd8cfEDxhP8AtyftMaI9v428SWRh8HeGLr5l8E6E53R2iA9LuZcSXMuAxYiMbVQg/RVFFRiK8sRU5np0S6JdEvT/AIL1HFcqsFFFFYjCiivAf27Pjl8R/CuneGP2aP2db%2BOD4o/Fi/m03w7qEkXmJ4fsIkD6hrUi9CttCw2KT880sK4OSK1oUZYiqoR6/cktW35JasqMXOVkYPxx/aO%2BMHx6%2BLGp/sefsN6rb2WqaOyxfE34sXFsLiy8Gq4z9jtkPy3eqMpyIidkAw0nPyj1P9mf9lH4O/soeEJ/DPwv0e4kvtTuPtXiXxRrNybrVtfvDktdXt0/zzyEljzhVyQqqOK0P2cf2efhv%2By38IdK%2BDXwt06SLT9ORnuLy6k8y61K6c7p7y5lPMs8rku7nqTgYAAHc1vXxEeT2NHSH4yfd/otl63bqU1bljt%2BfqFFFFcZmFFFFABRRRQAUUUUAFFFFABRRRQAUUUUAFFFFABRRRQAUUUUAFFFFABRRRQB4R%2B05%2BxPYfFTxZB%2B0J8B/GDfDv4xaRb%2BXpXjbTYA0WpQjB%2BwarbjC31o2ANr/PHgNGykYNn9kv8Aa4vvjTqesfBH41%2BDE8FfF7wbGh8W%2BD2nMkNxAx2x6np8px9psZT91/vRsfLkAYAt7dXhP7b37Mvin4taHpXxv%2BAV5BpPxi%2BHLyah4C1iT5Y74Efv9Iu%2BRvtLpAY2BPyMUkBBU576NaGIiqFd6bRl/L5P%2B73XTddU9YyUlyy%2BT7f8A92orz79ln9ofwt%2B1R8CPD/xw8KWM9imr2zLqOkXgxcaXfRO0V1ZTAgESQzJJGeBnbkcEV6DXHUpzpTcJqzWjM2nF2YUUUVAgr5T8UWP/Dur46L8SNAXyPgh8SddSHxfpi8QeDNfuHCRanEOkVndSFY514WOVkkBAYrX1ZWH8S/hz4P%2BL3w%2B1r4XfEDR49Q0TxBps1hqlnIOJIZEKsAexwchhyCARyK6cLXVGbjPWEtJLy7rzW68/K5Mo3Wm55r%2B1B/yW79nH/ss19/6hXiivZq%2BYtR%2BHPjr4Qr%2Byd8L/iP8QR4q1bQPite2Mmvm1ML3kMfgzxSsDSKWYmQQiNXfPzurNgbsD6drGpGMZtRd0nv38xrVBRRRUDCiiigAooooAKKKKAOQ8C/tCfAP4oeMtZ%2BHXwz%2BOHhDxF4h8OuyeINC0LxLa3d5pjK5jZbiCKRngIcFSHAwwx1qxa/G34M33xTufgXZfFzwxN43s7AXt54Oi1%2B3bVYLUhSJ3tA/nLGQ6fOV2/MvPIr5r%2BGvxX0z4sftv6t8U/Fnwk%2BIvhLSfhZpOteF/Aum3Hwa8Qw/219qvLM6jqzXQsPs7wSS2kCWsEUjM8azXLg74xDzPg34f/EGL9qTw98N5vhR4oi17Qf2nfEnj3WvGcvhq6TSpvDt5oWp29tImpmP7NPIVvbDT/sqyGZfszMYxHCr0Ae9/t4f8kQ0P/ss3w4/9TXRK5n9gCP/AITLXvjX%2B0Bffvbrxd8YtUsbW5/vabpATS7VB/sg28zj3lNS/wDBQvTfivP4P8Gaj4c8aeHrXwtD8Yfh6Ne0a98MT3GoXjnxno3ltb3i3scdsFbaWD20xYAgFMgh3/BMeaOP9mrUNAe3SG70b4m%2BL7HUYkLfLOuvXrNncSckOpP14wMCu2j7uCqtbtxXyd3%2BcUS/jR9C0UUVxFBRRRQAV8wfstWjfGj9vL47/tJas32i38H3lj8M/B%2B8f8ekNrbxX%2Bplf%2But3dxqT1xaqM8YH0/XzR/wTcYWN9%2B0D4ZuvlvbD9pLxLJdRtw2y5S1u4Wx6GGePB9vau3De7hq0lvZL5OSv%2BVvmaQ0hJ/1ufS9FFFcRmFFFFABRRRQAUUUUAFFFFABRRVfV9QOk6TdaqLG4uvstu8v2azj3yzbVJ2IuRuY4wBnkkU0m3ZCbSV2cf8AtBftGfCL9l3wB/ws741%2BJZNK0c3sdmtxFp81yzTOGKpthRmGQjckAcdeRXzF46/4LvfsaaBGtv4G0zxT4mu5DiJYNOjs4Af9uS6kQqPcKamt/wDgq/8AskfGfw1rXhf9oH4CeN9D8Jf2lJpOqX3i/wAGG60wXEe0vbXHk%2BaYp0LITGVJTKnIr8qvjH8EJf2gfHXjbVv2CPh/4h1Hw9purxzab4USYXOtixl35kito9008EcihSV8x41kh8xiWLH7CGVYPKMkxWPzTC1ZSoR5rRa5ZbJRTSve71s3pr5PwclnjOM%2BNctyHKsww9COMqKn7Sqn%2B70bc5XduWytG6V5WV9br9GPCf8AwXX8XfEHXZtB%2BHX7BviPxFNE%2B1YtA8SNeyNnplYLJwM%2BxNe2fs4f8FAfjX8bfiXpXw58bf8ABPr4l%2BCVvfNOoa3q1nMLLT1CFkZ5JreHIYjbjg5xgNzjK/4Iq/Cj9pP4N/sPWHhH9pyxv7HU3166udB0nVsi70/THSHy4Zlb5kbzRO4RvmVZFBxjaPrWvEhnWS5hgY1aOXeyc43XNUm5RbXVXS87WPazzhLOuF%2BJcRltTN44uNCo489OnBU6ii94vV2e1031s3owoooryTUKKKKACiiigAooooAKKKKACiiigD5h/Zytl%2BB3/BQ/40fs%2BWI8rRPHOjab8TdBtE%2B5b3c7yafquP8ArpPbW05H96dj/FX09XzRMy6l/wAFirX7Ed39j/s1XC6iV/hN34ggMAPuRZ3BH419L12473pwk93GN/ut%2BKSZpV1afkgoooriMwooooA8Z/ag/wCS3/s4/wDZZr7/ANQrxRXs1eM/tQf8lv8A2cf%2ByzX3/qFeKK9moAKKKKACiiigAooooAKKKKACiiigDxn9vD/kiGh/9lm%2BHH/qa6JXLfstTD4RfthfG79m/UD5UWu6tbfEbwsH63FtqEa29/t9o722Yn/r5U966n9vD/kiGh/9lm%2BHH/qa6JWD%2B3Z4I8Y%2BFT4X/bP%2BEWhz6j4o%2BFFxPcapo1mP3uu%2BHJ1VdSsVH8cgREuIgc4ktwACXrtwTjOUqMvtqy9b3X3tWv0TZE9Nex9CUVjfDv4g%2BDvix4E0j4l/D7XoNT0TXdPivdLv7dspNDIoZW9QcHBB5BBBAIIrZrjlGUZNNWaL3CiiikAV8pOkf7Jn/BTq98R6tdzx%2BEP2ltJs7aO5nnJt7HxdpNu0cUAHCRfbLDG3%2BKSWzxzlQPq2vP8A9p/9nPwT%2B1T8GNU%2BDvje4ubNbsx3Ok61p77LzR9QhcSW19bOOUmhlVXUjrgqcqxB6sJWhTm41PhkrP00afyaTt1tYunJRdns9D0Civnr9j/9qTxprniS8/ZG/avhttJ%2BMvhOzD3JjTy7TxhpoO2PWtPzgPG%2BP3sQ%2BaCXcrADFfQtZ16FTD1OSX/Aa6Nd0xSi4OzCiiisSQooooAKKKKACiiigAooooA%2BXPiv%2Bx58bvhb498S/Gn9izxhpsi%2BLrua98c/Cvxqpm0XX55f9dNEx5tppBkH%2BBiQGKqNtfEvwx/aS1nxL%2B1d4X8AfskeFPBPwXuPEl/Lod7/AMIt8P7XXdX0y5UIsy3E0wCS2jSjeJYGVVjUllPlnP6bftZ/s/z/ALUHwD174J23xA1DwxJrEUYj1fThuaNkkVwroGXzI227WTcuVJGRWJ%2BxD%2ByL4V/Y6%2BA2kfCyxh0681iDzZtb161svLe/uZHJZyTlsBQkYBP3Y1r7TL8%2BwuGyuc8SlUrP3FG32eV2lNtOM7OySlFyVrXsz4fMeHsXic2pwwrdKivflJP7XMrxgk1OHMrtuMlF3vbmRwNx%2Bx7%2B3dfQtqepf8FPtbk1WL57I2nw6061sw45USQoxEi9iCef0ryLW/8Agp/%2B2R8DvHHir9nXx9%2BycnxK8Y%2BEGtY7jxB4AF6llILiBZoHmh%2BzSMjMjE8FQzI4UADdX37Xy78DFfV/%2BCp/xz1S/iNvJo/g3w3YWKQY2XMMsJnaWXH/AC0VxsXIztzzjry5dmFLFU68sbQhUjThzJKKp688I701F297bbqdeZ5dVwlShHA1505VJ8rblKppyTltUclf3d9%2Bh0X7Cn7Vf7QX7TWmazJ8dP2TNb%2BG76Slv9kvtTE8UWqvJ5m8RQ3EMbqECpyDIp39VIAP0BRRXz2MrUcRiZVKVNU4vaKbaXzbb13Po8FQr4bDRp1qrqSW8mkm/kklpt%2BeoUUUVzHUFFFFABRRRQAUUUUAFQalqWnaNp1xrGr30NraWkDzXVzcSBI4Y1BZnZjwqgAkk8ACp6%2BQ/jh4x1X/AIKNfEzUf2OPgrqtwnwp8P6gIPjl48sJikepMhDN4ZsZV%2B/JJwLuRDiKImPO%2BQrXRhsO689XaK1k%2By/z6JdXoXCHM/Lqb3/BO2LUPjT4i%2BJX7fWs2UsEHxZ1yC28Cw3MZV4/CumI9vYS7WGUNzI91d47rPGfSvp6q2i6NpHhzR7Tw9oGmQWVhYW0dvZWdrEEighRQqRoo4VVUAADgAVZpYmt9YrOaVlsl2SVkvkkhTlzSuFFFFYEhRRXlH7Yv7RNz%2Bzr8I21PwlpI1jxr4jvY9E%2BH3hxTl9T1i4ysKEdok5llY4CxxucjitKVKdeqqcN2JtJXZQ/ag/5Lf8As4/9lmvv/UK8UV7NXzFqPwt8Q/Bdf2Tvhp4w8e6j4o1nTPitejWfEGqXck0t9eP4L8UyTyBpCWWPzHfYnRECKOFFfTtTOMYzai7pde/mC1QUUUVIwooooAKKKKACiiigAorxf9jn4u/HD4lXXxS8HfH698KXes/D/wCJjeHra%2B8H6Lc2FrcWraNpWpIWiubq5cyK2oPGXDhXEasETJFcl%2BxR%2B1P8XfjP8QvEfgj49%2BJtE0fXbW51iXSfh%2BfhPrfh/UE0211aS0hv477UbuSHV4Gh%2Bys8tpCsavdR5Zd6qQDr/wBvD/kiGh/9lm%2BHH/qa6JXs1fPH/BQv4ufCjw14P8GfCjxH8TvD2n%2BKfEHxh%2BHsug%2BGr3WoItQ1JI/GejNI1vbs4kmCqrFiikAKScYNfQ9AHyffSXf/AATP%2BJt3rgt5G/Z88Z6w1xf%2BShZfh3q9xJ88u0fc0u4kbLY%2BW3lYn5Ufn6ss7yz1Gzi1DT7qOe3njWSCeGQMkiMMqysOCCCCCOtRazo2keItIutA1/S7e%2Bsb63eC8sruFZIp4nUq8bowIZSCQQRgg18tHwz8XP8Agm5dyX3w40PWPHfwFaRpLrwtaBrrWvASk5aSyUkve6cMktb5MsI5TcoYV6Pu5gtXar/6X/8Abf8ApX%2BL4s/g9PyPq6iuf%2BF3xV%2BHPxr8DWHxL%2BE/jOw1/QdUh8yy1PTZxJHIO4PdWB4ZGAZSCCAQRXQVwSjKEnGSs0abhRRRUgeX/tSfsm/Df9qrwtY6f4our/RfEXh%2B7N94M8b%2BH5/I1Xw9e4wJ7aYdAcAPE2UkXhlOAR5P4N/bP%2BJ37LviGy%2BC/wDwUjsrPSxcTraeGvjdpNsYvDfiEnhFvOo0i8YdY5T5DsGMcmMLX1RVDxR4W8M%2BN/D154R8Z%2BHbHV9K1G3aDUNM1O0Se3uYmGGSSNwVdT3BBFddLExVP2VZc0Ondf4X%2Baej9dTSM1bllqvy9C5bXNveW8d5Z3CSxSoHiljcMrqRkMCOCCOc0%2BvleT9ib47fsr3Emu/8E6/jDBp%2BhBzJN8GPiJLPe%2BHWyclbC5Ba60onLEKhkg3EfugBWj4X/wCCmHw98Ja7a/D39tT4b658CvE1xKIYG8ZbZdBv5P8Ap01mHNpIOnErQvzylW8FKoubDvnXZfEvWO/zV15j9m3rDX8/uPpeioNL1TTNb06DWNF1GC8tLmISW11azLJHKhGQyspIYEdCOKnrh2MgooooAKKKKACiiuG%2BPP7SPwT/AGZvCJ8a/Gvx9ZaLaNlbSGVi9xeOP%2BWcEK5eVuRwoOM5OBzWlGjVxFRU6UXKT2SV2/kZVq1HD0nUqyUYrdt2S9Wzua4P46/tOfAX9mnQP%2BEj%2BN3xO0zQYnQtbW1xNvubnHaGBAZJT/uqcd8V4hZ/Gr/goX%2B1RG2ofs%2BfCnRvhP4PuDiz8UfEiB59Yuoj0mh09PlizkECbKsOQ3Ndp%2Bz5/wAE/wD4QfB3W2%2BKPxAnm%2BInxHu5RPqfj3xbGJ7ky9vs8bFktUXooT5lX5dxAAHq/wBn4TBa42pr/JBpy%2BctYx/8md/snkf2jjMdpgaej%2B3NNR/7djpKXl8MWteY8E/ax/4KySXnwdk0P9nbw/448G%2BPNV1K1i8OweLfh7KZ9Ys5JAjS6ev7yKRyGV183GQCANxWvpH9kP8AZc8Ofs/6BqfjK48R%2BIfEPi/xs1vf%2BLPEvi1kOoXMixYjgZUysSRBmURgttJI3EAY9dntLW5eOS5to5GhffCzoCUbBG4Z6HBIyOxNSUYrM6EsEsNhaXs023LVSctrK/Knyq10m3q79h4TKsRHHPFYur7SSSUfdcVHe7S5muZ3s2ktFbvcooorxj2wooooAKKKKACiiuf%2BJnxY%2BGHwX8KT%2BOvi78Q9F8MaNbD9/qmvanFawKcZxvkYAsccKOT2FOMZTkoxV2wSbdkdBWD8TPij8Ofgz4Jv/iR8WPG%2BmeHdB0yLzL7VtXvEgghXtlmIBJPAUcsSAAScV88S/t5/F39o0nRv%2BCef7O194os5jtHxT%2BIMM%2Bi%2BFoB/z1hDqLvUwDkYgjVDwfNxWt8Of%2BCeuma142sPjb%2B2p8Tbz4yeONPl8/SY9Zs1t/D3h%2BT107SlJijccDz5TLMdobepru%2Bpxoa4mXL/AHVrL7vs/wDb1n2TNfZqPxu3l1/4HzOSvPF/7Rn/AAUqU6H8LF8QfCj4E3PGoeNbqB7LxL41tz1i06FwH02zdet1IBNIrDy0UFjX018J/hL8N/gX8O9K%2BE/wj8HWWgeHdEtRb6ZpenxbY4kHJPqzMSWZ2JZmYsxJJNdFRWVfEurFU4Llgtkvzb6vz%2B5JaEynzKy0QUUUVykBRRXm/wC0d%2B1R8Kv2Y9BtLzxvd3d/rWsTG38L%2BD9Ctjdatrtz2htbdfmc5xlzhEzlmUVdOlUrTUIK7Ym0ldm/8aPjR8Nv2ffhtqfxZ%2BLPiaHStE0qHfcXEnLSMThIo0HzSSu2FRFBZmIAFeOfsyfCf4kfGL4pn9uL9pzw1LpOtTWMln8MvAt4QzeENIlxvlmHQajcgKZiOY0Cwg8MKb8JP2bvip8bviPpn7UP7b1varqukzfafAHwtsrkXGmeESR8tzO4%2BW91LbwZsbIiSIh0YfR1dk508JTdOm7zekpLZL%2BWP6vrstLuUpOTu9jxn9qD/kt/7OP/AGWa%2B/8AUK8UV7NXjP7UH/Jb/wBnH/ss19/6hXiivZq4CwooooAKKKKACiiigAooooA8X%2BBP7HmsfAnxp4v8a2n7WXxK8RyeOPFcPiDXrHxDaeHRA92lrb2ZCfZNIgdI3t7S2iYB84hDKVdnZtT4f/stQeE/jQvx58bfG/xr4616y0O%2B0bw7/wAJUdMjg0SxvLi2uLqG3j0%2Bytd5keyswZLgzSBbdQHG59/qlFAHjP7eH/JEND/7LN8OP/U10SvZq8Z/bw/5Ihof/ZZvhx/6muiVr%2BG/2uvg7rPxl1H9n7xDeX/hjxdaXTx6dpPimyNkdbhU4FzYSMdl3E3OAjFxg7kXFXClUqJuKvbV%2BhE6kINKTtfY9PoooqCz56%2BJf7Fev%2BEvHF/8ef2I/Hdt8PfGWoS%2Bfr2g3Vs0vhrxTJ631ohBhmPT7XBtlGSWEmal%2BGn7efh%2BDxfafBf9rPwPc/CTx7ct5djZ69crJo%2BuMON2m6kAIbjOR%2B6cpMC20oSM19AVhfEf4Y/Dv4weELvwB8VPBGl%2BIdFvl23WmavZJPDJ6Ha4IDDqGHIPIINd0cXGrFQxK5rbSXxL59V5P0TRHK1rE3aK%2BaF/ZN/aP/Zo/wBL/Yh%2BOQvPD8PK/Cr4pXE9/psaD/lnY6gC13ZADhUYzR5P3QKu6L/wUV8FeCtVg8Hftj/DLXvgtrc0oiiu/FKrcaBeSHtb6vBm2YY5xMYWGeVFDwUqmuHfOuy%2BL5x3%2B668w57fFofRVFVdF1vRvEelQa74e1e1v7G6jElreWVwssUyHoyupIYe4NWq4WmnZlhVHxJ4Z8N%2BMtCuvC/i/wAPWOq6ZexGK807UrRJ4J0PVXjcFXHsQRV6imm07oD5/wDB3/BN/wCBXwf%2BJVh8R/2b/Eni/wCGUVvqiXmq%2BEvBviJ4vD%2BsANlop9NmEluisMjMCxMM8MDXT/tl%2BKNZ0L4V6b4e0XxJd6K3irxhpGgXWt2MpjmsLe6ukSaRJB/q2MYZA/G0uCCDivWaz/FPhPwt458P3XhPxt4a0/WNKvY/LvdM1WzS4t7hMg7XjkBVxkA4IPSulYqpOtGdZuVu%2Br/Hf5l87ck5anz38HPFvxD8OfssfE7xB8FW1zxYmk6zrC/CxL3UJdUuLyCOJBDHHNdSs9xGtwJVTfIchSu7AAE/gL9qH4lQfD3w5pNnqukfEjxp4j1660mys7jRp/Cf9ny2dtJNef2mkj3jWzR%2BWFOyMkmeHbGVbfXrfif4GeCtd8Nz%2BG9DutW8MLMlqsV14S1WXT5bZbcFYViERCIoUlSm3Yw4ZSAMea%2BJ/wBiO70rTdGn%2BBHxZm8P65px1z%2B0dd8Rac2rzajJqwj%2B13b4mgC3YeKNo5PmijG5PJKEKvVGthKrftNLu%2Bq8urWu/a19b%2BVqVOW5b0n9vf4RXHhnwxrutaHr1tNrmj2mo61BZ6a11H4ahuJ3tke/lTCwxmeOaMPj/li7EKqkj3GvlHxR%2BxR8QLHWPEPwb8B6Rp7eAfHVv4btda8SXetFb7T9N0zYLjT/ALOIsTfaFWUiQOAHvpyy8DO1%2B3b%2B2Xq3wm0yP4Lfsya3a6z8Z9UuITonhW30B9XKx7w0jXUcc8P2eMpn948gKg7wrAEilgI4yvClhFdvXyS01l2S1Tv0V%2Bpy43FYPA0va1ZqMfPz2SSu23skk2%2BiOh/bL/aq1z4MQ6P8HPgjoUPiH4r%2BN5Db%2BEdBbmO2TkSahdY%2B5bxAMcnG4qR0VytL9n/9gnwr4C8XL8dPj/4sufib8UJ1VpvFXiCMNDpx6%2BXYW33LZFJOCBu642hiteKfBr9nf/gqh8Mfij4h/aa1nwp8D/FfjHxlBENRXxB4m1S0udJtlAK6datDazQxxKQuQC24qCXfG4%2BsW3x%2B/wCCmelubfxB/wAE7/COohUYm60D44w4chSQBHc6fGRkgDlu/OBXoV08JQ%2Bq4GpDVe/NSinJ9Yptp8i2SXxbvol5OEy%2BrmNVYzGR84Qb%2BBdG09PaPdt/D8K6t/SdFfNP/DXP7dln/wAhb/glJ4tYd30z4p%2BG5x%2BAe6jb9KP%2BG2/2qouLr/glf8Vwe/leJvDkg/MajXjfUMR3j/4HD/5I972U/L71/mfS1FfNP/Dav7Ws/wAth/wSs%2BKLN2%2B0eLvDcQ/M6gaB%2B1f%2B39ef8gz/AIJU67Fn7p1b4v8Ah6Efj5MsxH5UfUK/eP8A4HD/AOSD2UvL71/mfS1FfNJ%2BNX/BU7xEfK0P9hP4beHifuz%2BJPjXJcge5S00w/kGNJ/Zf/BYHxJ%2B5u/F37OnhON/vSWGj65rU0Y/2TLNaIT9Vo%2BpSXxzgv8At5P/ANJuHs31a%2B//ACPpeivmf/hkj9u3xd%2B6%2BJ3/AAVA122tpP8AXWnw9%2BGWkaQR7LNci8lX67vwpD/wSp/Z%2B8Uf8l3%2BKPxd%2BKA7weO/ipqUlsT/ANe1pJbwY/2fL2%2B1H1fCQ%2BOtf/DFv/0rl/MOSmt5fcv87Ho/xm/bd/ZA/Z5SX/hdP7S3gvw9PD9%2Bwv8AxBB9rJ7hbdWMrH2VTXmv/DyuD4kD7N%2ByR%2ByP8Wfig0v/AB6a0nhk%2BH9EkPqb7Vzbgr7xxyfTkZ9S%2BD37G/7J37P3lyfBT9nDwV4ZniHy3uk%2BHLeK5b3acJ5jH3Zia9Ko9pgKfwwcn/edl9y1/wDJgvSWyv6/1%2Bp8wnwf/wAFTvjxz4v%2BKPw/%2BBeiTcnT/Blg3ibXQh4MbXl4sVpE2P4kt5Mdj6bvw0/4Jn/su%2BC/FcHxN%2BImkax8UvGdvzF4x%2BK%2BsPrl5Cc5Bhjm/wBHtcHp5EUeO3QV9A0UpY6vyuNO0F2irfe9382wdWVrLT0AAKAqgAAcAUUUVxmYUV574r/an%2BBPhfRPF2qwfETTNXuPBFhNdeIdI0S/huLy3EQG5DGHG1gWVTuKhS43Fc5rz7xb%2B058QPGGr%2BG/hT4XsZPhv4p1bxWdJ1s%2BJtNh1JtNzp13e2wQQ3Ahk%2B0C0dVkDsoMci43FK6aeErz1tZefpe/f7l1XdEuSR9B1T8QeIdA8JaJdeJfFWuWemabYwma91DULlIYLeMdXd3IVFHckgVyf7PPxU1f4ufDga94o0iDTtd03V7/AEfxDYWrlo4b6zupbaUoW58tzGJUzkmOVDk1wfiP9g/wL8Wvijd/En9pjx7r3xItI9Ua58NeC9elSPQNFj3ZjUWMKrHdSKDjzbjzCRjgHmiFGnGrKNaVrdldv06fNv7wbbWhzOofti/Fr9py7l8H/wDBPvwNDqGm%2BY0N/wDGTxdayw%2BH7PB2sbGL5ZdVlGGA2bYAwXdIQcV3f7PH7HHgT4G69efFHxJ4g1Lxz8R9YhEeu/ETxQVkvpk6mC3VRssrYEnbBCFUDGSxANet2dnZ6daRafp9rHBBBGscEEMYVI0AwFUDgADgAVJV1MX7jp0Y8sXv1b9X19FZeV9RKOt2FFFMubm3s7eS7vLhIookLyyyOFVFAySSeAAO9cZZ45%2B1B/yW/wDZx/7LNff%2BoV4or2avCvj14p8M%2BNvij%2BzR4p8G%2BIbHVtMvfjHfvZ6jpt0k8E6/8IX4pG5JEJVhkEZB7V7rTaadmJNNXQUUUUhhRRRQAUUUUAFFFFABRXM/Cz40/Bz456Jd%2BJvgn8WfDPjHTbDUpNOvtQ8La9b6hBb3kYVpLeSSB3VJVDoWjJDAOpI5FJ4O%2BNvwZ%2BIni/Xfh78P/i54Y13X/C04h8TaHo%2Bv291eaRISwCXUMbs9uxKsAJApyp9DQBwH7eH/ACRDQ/8Ass3w4/8AU10Su7%2BMfwM%2BEf7QPhB/Avxk8Bafr%2BmM2%2BOK9i%2Be3k7SwyKQ8Mg7OjKw7GuE/bw/5Ihof/ZZvhx/6muiV7NVQnOnJSi7NdUTKMZxcZK6Z84r8Mv2zf2Wf3vwQ8Z/8Lf8GQ9PBXjrUhBrtlH/AHLPVCNlwB2julzhQPNrr/g9%2B2/8Dfix4mHw21K%2B1DwZ43UDzvAvjqyOm6mCf%2BeSSHZdKcZDwPIpHOa9frk/i/8AAr4OfH7w0fCHxm%2BG%2BkeI9PyTFFqdortAx/jif78T/wC2hVh611/WKNb%2BPHX%2BaOj%2Ba2f4N9Wc/satL%2BDLTs9V8nuvxXZHWUV87D9lv9pf4E/v/wBkr9pae%2B0mL/VeAfi15uq2Kr2jg1BCLy2UDhQxnUemOKcv7dutfCk/Yv2x/wBnPxV8PFj4k8U6ZCdd8PsOgY3dmpkgBPOJ4Y8DqeCaX1OVT%2BBJT8lpL/wF6v5XXmH1pQ0qxcfPdfetF87H0PVbWdF0bxHpU%2BheIdJtr%2BxuozHdWd7AssUyHqrIwIYH0IrH%2BG3xb%2BFvxj0BfFPwn%2BImieJNObH%2BmaJqcVzGpP8ACxjY7W/2Tgj0roa5XGdOVmrNHTGUZK6d0fO%2Bsf8ABN74T%2BGdVn8V/sr%2BPPFXwX1meQyyDwDqIXSriXsZ9KnWSzkA9FjQ%2B9QDxN/wUv8Agh%2B68S/DzwR8bdHi4GoeF74%2BG9bKjq72t00lpK3sk0efQd/o%2BiutY%2BtJWrJTX97V/wDgStL5XsTyLpofPOl/8FNv2a9M1CHw/wDHi38VfCPVpn2R2XxR8Mz6ZC577LzD2bj3WY5/OvcvCPjfwX8QNFj8SeAvF2l63p03%2Bqv9I1CO5hf6PGxU/nVzVNK0vXNPl0nWtNt7y1uEKT211CskcinqGVgQR7GvD/F3/BNH9jPxHrMnivw18JR4J11%2BV134carc%2BH7pG/v5sJIlc55%2BdW55ovl9TdSg/K0l/wC2tfew99eZ7xRXzmP2Sv2tfh7x8Df%2BChfiia1j%2BZNJ%2BKPhix8QRuf7puYxbXIHbJkY/U0v/Cd/8FQvh9z4m%2BAPwp%2BI0A4Eng3xld6Hcn3MN/DNHn28/HuKPqcJ/wAOrF%2Br5f8A0pJfiw5mt0fRdFfOv/De3jPwp/o/xk/YL%2BNvh%2BVP9fcaN4dtvEFog7nzNNuJXIHr5Yrxj9ob/gsf8Pte1%2Bw%2BDP7Mvj/RfDOpakHj1vx38TbOfSrTw2QxVo/s11Gkk1yMEgFfLB253Dds6cLkmY4ury046buV7xS7tq6/V7JNnJjMxw2BpqVS7bdlFK8pPsl/SS1bS1Pev2zP2tb74NW1j8Fvglpa%2BIvi54xQweEfDkC7/sobIa/uu0VvGAzZbAYoR91XZdj9kD9kfwl%2By14FaOaZNa8a627XfjbxpdR7rvV72Ri8hMjfMIg5OxM4A5OWLE8B%2BxboX7FHwvk1Dxp4R/ax8K/Enx74lCnxL46vPGVnd318eP3SKkreRCCBiJegVQxbauPpu3uLe7hW5tZ0ljcZSSNgysPUEdavG14YWh9Tw1%2BV6yk005tbabqK6J6t%2B89bJcmDwlfEYn67jEufaEb3UE99es39prRL3VpdyfRRRXjHshRRRQAUUUUAFFFFABRVXV9c0TQLU32vaxa2UA6zXdwsaD8WIFeb%2BMv24f2NPh8r/wDCZ/tWfDzT5E%2B9bz%2BMLPzvwjEhc/gK0p0a1V2hFv0VxNpbnqVFfOx/4Km/se6sTb/DPxH4p8d3J/1dr4E%2BH2r6oZP92SK2MR/77pD%2B2l%2B0F4x%2BX4M/8E5viffD/n68b3%2BmeHIfrie4kmx/2y3e1dP9nY1fFDl/xWj/AOlWJ54dGfRVFfOm/wD4Kn/EX7sHwZ%2BGNnP3d9R8Tahbj6AWcBb/AL6FIf2F/in49Pm/tD/t6fFPxGp4l0vwncW3hewkXujJp8YnZe3M5OOpNH1WlD%2BJVivJXk/wXL/5MHM3sj6KEkbO0SyKWUAsoPIz0zXjvwx8UePPhn8c/Fnwl%2BMPxSu9fsr3SIfE3hfWdYtbW2ENv5htryzBgjijCQP9kYFgXIu/mZjXTfAX9mD4F/syaXqGk/BLwImjrq06T6tcPfXF1cXsqAqrzTXEkkkjAEjLMetXvEXwB%2BDXjD4m6f8AGTxf8O9O1fxLpFobfRtT1WM3J05CSWNukhKQO2fmeNVdgACSAAIjLDwlOOri1o7K9911dtdHZvQfvOx85W/wZ8SeJfE3hb4RXHgDU76wtPEOvvJ40syjabqHhXVVuZpVNwpIFy0/2N/L2nc8W/G07h6J4H/ZG8V6zNqMv7RPjHTtbk/sHSdJ0m88OwT2Vyr2DySRao0pkLR3hdwfkOxPLGM72Fe89OlFa1MwrzVo6f8AD3uu132EoJGB8M/hr4Z%2BE3hOPwf4V%2B2vAtxNcXF1qV/LdXN1cSyNJLNLNKzPI7uzEknAzgAAADforz740ftV/s6fs9RqPjF8X9F0W5kx9n0uS582%2BuM9BFaxBppSf9hD1FckY1sRUtFOUn82wnOFKN5NJeZ6DTLm5trK2kvLy4SGGJC8ssrhVRQMkkngADvXz2f2nf2pfjYPs37Lf7K93pOnS8J41%2BMEj6Tagdni0%2BPdeTqRyCwgB9R1pbf9g%2B5%2BKdzHrX7aPxx134nyK4kXwtGP7J8NwMDlQLC3b/SNp43XEkuR1Aro%2Bqxp615qPkvel9y0XzaZh9ZlU/hRb83ovver%2BSZZ8Uft8eEfEeu3Pw%2B/ZL8B6n8YPEltIYrlvDMixaLp8n/T3qsn%2Bjx9/ljMsnGNlUIf2P8A4q/tCXEeu/t2fFSPWtO3iSH4W%2BC3msvD0JByBdSEi41MggH96UiyD%2B6wa998M%2BFvDPgrQrbwv4O8O2Ok6ZZxiOz07TbRIIIE/upGgCqPYCr9P61Gjph48vm9Zffsvkk/Nh9XlU1rSv5bR%2B7r83byR4b%2B0B4d8P8AhL4p/s0eGfCuh2emabY/GC9hstP0%2B2WGC3jHgnxRhERAFVR6AYr3KvGf2oP%2BS3/s4/8AZZr7/wBQrxRXs1cbbbuzqSSVkFFFFIAooooAKKKKACiiigD5V/YW%2BKXhqH4s/HbTofhf8RdCtPEHxlt77w2%2Bt/B7xDpNrdWTeHdEsVmjkurCKMRi4sblCcgIIwzYR0ZuI/YU%2BH/xB0v4w/Cnwxq3wo8UaHqPwn%2BGfjHQfiVr2s%2BGrqys9T1O/wBZ0uaFrW6mjWLU1uXs7u%2B863eVYw48wpJMVr7hooA%2BeP8AgoXpvxXn8H%2BDNR8OeNPD1r4Wh%2BMPw9GvaNe%2BGJ7jULxz4z0by2t7xb2OO2CttLB7aYsAQCmQRueN0/bi%2BGfi/UvFfgCXwx8TPDF1dvPD4S1ADRdV0%2BMniG2u13QXAX/puqMem/vUv7eH/JEND/7LN8OP/U10SvZq0p1PZvZP1/q6%2BTRhXoe3ikpOLWzTt%2BGqfo00eKeDv29fgZqWvQ%2BBfisdW%2BGfiaY7U0H4i2B04zHp%2B4uWJtrgE8AxysTxxzXtMM0VxEs8EqujqGR0bIYHoQR1FZvjDwT4N%2BIWgzeFvHvhPTdb0y4GJ9P1axjuIJP95JAVP5V4xN%2BwdongKZtS/ZV%2BM/i34Wz7i66Tpd7/AGhojMepbTrzfGoP/TIxe2K2thamzcH56r71qvuZzc2Y0N0qi8vdl9z91v5x9D3uggEYIrwQfEH9vX4Q/u/iB8FPDXxQ0uP72r/D/VP7M1EIOrPYXzGN3I5xHcfQdqveHP8AgoN%2BzPfatF4X%2BIfiTUfh5rcpwNF%2BJOjzaLLn0WScCCT22SNnjHUUnhKzV4LmXlr%2BG6%2BaQ1mWFT5arcH2kuX7m9H8myz8SP2Bv2W/iNr7eN4vh2fC/ic5KeLPAt/LompK5/jM1myeaf8AroHHtXPj4Ift1/CQZ%2BDH7VmleOdPj4h0H4vaCDOF9P7S08RyFveSGT8a980vVtL1zT4tW0XUre8tZ03QXNrMskci%2BqspII%2BlWKqOMxEVyyfMl0kr/dfb5WNnhaEnzRVm%2BsXb8t/nc%2BfP%2BGv/AI9/Dj9z%2B0R%2Bw740sol4bXPh1dQ%2BJbIgdZDHD5d3GvfBgJHv1r3jQdas/EmhWXiLTknW3v7SO5gW5tnhkCOoZQ8bgMjYIyrAEHggEVbqO6hluLWSCG6eB3jKpPGFLRkjAYBgQSOvII9Qazq1KVRLlgovybt%2BN3%2BJpThUhfmlzLzSv%2BFvyOC%2BC/xJ8e%2BN/GfxA8MeMdL0dLfwn4pTTdNvtIklxPG9pBdbZVk6SItxGrFTtJzgDpUfgb9pLw541OtalP4K1/RdB0SS/EvizWY7VNMuEs5XinkSWOd2RFaOTmVY%2BEY44qn8F/gl8S/gxb67BJ8WLTxQ2ua/d6vcXWr%2BH0tbp55olUK8ls6xkBo0GRCDsG3HANeXeL/2Zvi1L4d8ea3pXwu8J6Amv6RZW954M8D6l5kWuSpqAuLy8dpbe1T7RJbtLEqsvzMx3y4YEdSp4WpUkrq3upPbsno7Pz7I5nUxEIJ2d9dPy2v6dz3rwX8avhZ8QfC914z8LeNLSXTLG5NvfXVyGtvs0g2nbIswRkJDoRuA3B1IyCCemiljnjWaGRXR1DI6nIYHoQe9fIvxGkstA8V2Px2/ab8MSeHvAOu%2BL73U9e0nW7IXCxra6YbTTRfRReYgMn72XB3KrQ26k7toHA/s5/Gr9qn9qX4I6J8GP2VNPl8GeFrCCaPxL8V9Ssyy2kbTSONO0iDgzPBEywCX7q%2BVwVOx26qeTyxEHVhJRgrc0pfDHfqt2mtkm3dWRyV84hhpqnOLlN35Yx%2BKW3R7LXVtpKzuz2H9qP8AaX%2BI3xA%2BIkn7Ff7GtzHN46uoAfGHi8AtaeC7F%2BGldh966YH93GDkEgnnFeq/s8fsw/Cz9m34Q23we8F6OtzZgmbVr3UUWWfVrt8ebc3DEfO7kd%2BAAFGAAK8D/Zo/ah/4Jv8A7J3gQfDvR/iDrHhm7uro3Ou6l8QvC%2Bp2GoaneOfnnup7m2RZHJJ6HaOgAr3jwp%2B2P%2ByT452jwh%2B074A1F36Q2vi%2BzaQfVPM3D8RV4/21OgsNhqco0k7tuLTnL%2BZ%2BS%2BzHZLu22ZZfCFSu8XiqkXVaskmmoR/lj3b%2B1LeT7JJDPGH7GH7IPxALv42/Za%2BHmqSP1nvfBtk8n1DmLcD7g1wtx/wSm/YAeZrjS/2drPR5GOS/hzW9Q0w59vslxHivfNK1rRtdthe6Jq1reQnpLazrIp/FSRVmvLhjcdSVo1JL0bX6nucsHrY%2Bdv8Ah2d8E9O48FfF74z%2BG1H3U0T4za2ir%2BElw/60v/Dvi%2Bt/%2BQR%2B3j%2B0RZ46D/hYMNzj/wACbSTP419EUVf9o43rNv11/O4uSHY%2Bd/8Ahhz4v2nGk/8ABSD43IB0%2B2TaJcH8200Zo/4Y1/aRTiD/AIKXfFMD/ppoWgMfz%2BwV9EUUf2hif7v/AIDH/IOSP9Nnzv8A8MZftFS8Xf8AwUs%2BK7D/AKY6PoEf8tPo/wCGE/iZecaz/wAFGvjxJ6iy1PRrb/0HTTX0RRR/aGJ6W/8AAY/5ByRPnc/8E8Ybn/kM/tuftEXoPUf8LQe2z/4CwxY/Cj/h2D%2BzRqX/ACO/iL4n%2BJ8/e/4SD4wa/KG%2BoS7QGvoiij%2B0cctqjXpp%2BVg5IdjwHSP%2BCWf/AAT40i7F%2B37K3hnUJx/y215JdSY/U3ckhP416P4N/Zn/AGcPhyUb4ffs/wDgnQjH9w6P4Vs7Yr9DHGK7esvxF438F%2BEIjN4s8X6XpaAZL6jqEcAx9XYVE8XjK%2BkqkperbHywir2sagAUBVAAA4AoryXxb%2B3r%2BxP4HDDxJ%2B1b4AikT78EPiq1nlH/AGzidm/Sua/4eXfswax%2B6%2BGg8b%2BN5v4YfBvw31e93fSQWwjP4PRHBYySuqcrejsYyxeFi7Oav6o9/or5/wD%2BGwfj54s4%2BE3/AAT2%2BJV4P%2BfjxjqOl6BF9cS3MkuP%2B2efag6t/wAFOfHHz2Hg/wCDnw/tpeMalquo6/eQj12wx2sRP/AiPaq%2BpVV8cox9ZL8k2/wF9bpv4VJ/9uv82kvxPoCqev8AiPw94U0uTW/FGu2Wm2UIzLd390kMSD3dyAPxNeFf8Ml/tKeNuPjN/wAFAfGksB5Nh8PtCsPD0YPceaEnuMf9tQfQirmg/wDBNv8AY9sNTj8Q%2BMPhfJ421ZDltV%2BIetXevSu3qReySRg/7qgUexwkPjq3/wAMW/8A0rl/Ji9riZfDTt/if%2BXN%2BaF8Sf8ABSD9kbTNVk8NeCviLP481pDhdF%2BG%2Bj3OvTu393Nmjxqf951FUD%2B0B%2B218U/3fwT/AGN4fCtnLzDr/wAXvEkdoVHqdPsPPnJ9meP8O3uvh3wx4a8H6VHoXhLw9Y6XYwjEVnp1okESfREAA/Kr1HtsLD4Kd/8AE7/guX8bh7LET%2BOpb/Crfi7/AIWPns/slftE/FT99%2B0t%2B2h4jltJPmk8MfC%2ByTw5YjP3o2uFaW8mTt/rkz6dc9/8Gf2Sf2bf2fJGvPhF8HdG0m%2BlyZ9ZNubjUJyepku5i88mefvOep9a9Frz6%2B%2BN2vaL8UdO8E%2BI/hTqGn6RrOryaVo/iGfUbdvtV2tvLP8A6hGLrEyQS7XJ3EocoowaHiMVXi4J2XZWivuVk/xZLp4XDyUpLVu13eT%2B/W34I9BrK8YeNvDHgPw3feLvFWqC2sNNjD3sqRPKyAkAAJGGdmJIAVQSSQADmvEPiF8WfiT4V%2BI/ivxp/wAJ/PDpng/xJpNnd%2BE5beD7LNpF3FbpJdhxH53miWfzN/mbVWFk29SfL/DPw4/tGO2%2BB/w4C6R46Gk30fi%2BM2xiV9S028W603VrsKAJDPcBf3%2BD5qSyrk7cCqeDulKctNNvS7%2B5W76tHHXzRxk4U4Xeq16u/KrLrd30unZNn1z4D%2BIfhL4l6I2veD9SeeGOdoLmKe1kt57aZQC0U0MqrJFIAyko6hhkZHNec/E39qnxDo3je/8AhN8Ev2evF3jrxLp7Il7Ilr/Zmj2TuiyKJtQugsZ%2BR1bEKynBxjPFanwK8O%2BOk8feOfiN4u8EXXhiLxNd6fJHot1qNvclriC1EEt2GgdlAkVIEAJDFbdWZVLFR6bWL9lSqvTmXrpfztvbbSx1r6zicOrS5Hd3fLrZNrRS2vo9U7beZ4D8Yrjx3dePf2Ybn4m6bpdnr7/F69OqWui3Uk9rFL/whXin5Y5JERmGMclRzmvfq8Z/ag/5Lf8As4/9lmvv/UK8UV7NWDd3c64rlile4UUUUigooooAKKKKACiiigAooooA8Z/bw/5Ihof/AGWb4cf%2BprolTeMrX9tjwR4r1DxH8P8AU/Bvjvw/cXTzW/hjWIZNH1CziJ4ghu4/NilwP4pY1J7t6w/t4f8AJEND/wCyzfDj/wBTXRK9kjlilBMUisFYq205wR1H1q4T5Hsn6nLisMsTFLnlBrVOLs/u1T9JJryPEYf26fA/hGVdO/aN%2BGvi74Y3W4I114k0gz6Y7%2BiahaebAR7uyfTpXrXg3x54H%2BImjp4h8AeMdL1ywk%2B5e6RqEdzEf%2BBxsRWpNDFcRNBPEro6lXR1yGB6gg9RXkvjH9hr9mfxXrD%2BKtL%2BH/8Awi2utkrr/ge%2Bm0a8Vv7xe0ZA5/3w1XehLdOP4r9H%2BLOPkznD/DKNVf3rwl98VKLf/bkUeuVR8R%2BGPDXjDSZdA8W%2BHrHVLCcYmstRtEnhkH%2B0jgqfxFeOf8KQ/a7%2BHHzfCL9q6LxFZx/6nRfij4eS7JHob6zME34sr/j39J%2BEmqfF/VfDEj/G3whomj6zDePEsfh7V5Ly1uYQqlZlaSKN48sWGxgSNoOecBSgoe9GSf5/ibUMZOvP2VWjKD80nF/OLkvvs32PNdU/4J4/s4W%2BoS678J7PX/hrqUz7nvvht4iuNJUn3t0Y2zD2aIjt0qD/AIVD%2B3d8Ovm%2BG37VPh/xnapxFpnxM8IiOUL6G905oiT/ALTQt%2BNdB4017xDL8fdD0j4Y%2BPNYvbr7ZGPFmhosUul2GnLFIWklYx7oZ2fywirJvYnJQorET%2BJfjR44sf2irb4RaNZ6DFp7aZbzl9b%2B12819I7TGRLWZY3hdo44tzRn5vnHIHNdKrYl25nzaX95X0%2Beq%2BR58lllOUuWLp2ny3g2k29douz87rfS1zmP%2BGjf2tPAXy/F79iHUtSt4uJdW%2BGfiq01VX/2ltbn7NOB7AMf5VLaf8FGv2W7O5TTPiT4i1zwDfuwU2PxA8KX2klT7yzRCE/g5rrvDn7S3hDXvEk2l3ehalpmlmDUZtN8S6g0C2V8lhL5V2ykSGSMI2WDSIodAWUkA46HwP8AEj4e/GLSLyTwxdPe29vKIL221DS5rdlLIrruiuI0YqyMrK2CrA5BIqZOl9ulb/C2vz5v0NqVWc5KNDFKTeynFNu2unLyO1rO%2Bujvqh/gb4u/Cj4n24u/ht8TvD3iGIruEmiazBdDHrmJ2riP2qf2vPAH7LmhWVvqGn3XiHxdr0v2fwj4I0YeZf6xcE4AVQCUjBxulIIHQBmwp%2Bd/2tV/ZL8d/EWb9nv9mz9j3wd8Rfiw2ft11pumJZ2XhwZwZ9Qvrby2Uqf%2BWSvvJGMqxUNtfAb/AIJEeH/hnaWXj3xJ%2B0d49j%2BJC2rR3Xirw7rCItvG3/LrAt1FMTCo%2BX58luThQdo9Wll%2BAwtOOIxkmk9Ywa96XZtp3jDzsm18PdcNXM82xM5YfBQjJrSVRP3YvqkmkpT8uZpP4rbPa8OfsZfGX9qjWrT4m/8ABQ/xXFc2EEy3OjfB3w5csmj6eRyhvJFO69mHfkoDuALI20fUmjaLo/hzSbbQfD%2BlW1jY2cKw2llZwLFFBGowqIigBVA4AAwK8R/4UH%2B2r4a58Gft1rqcUf8AqrTxp8OLK63D0aaze2b8cE0fb/8AgpZ4c%2Be58OfBbxVEnUWeo6ppE0n0EkdygP8AwLFcmMr1sc0nUjyr4Yq8Yx9E0l6vVvq2dWChRy%2B8nQqc0vim7TlL1cZSduyskuiR7rJFHNG0U0aujDDKwyCPQiuK8V/sz/s4%2BO9x8b/ADwTrBf751TwrZ3BP/fcZrz//AIaH/bJ0XnxT%2BwBfXMa/6ybwv8SNMvPxCXH2Zz9MUv8Aw3FqGnfJ4r/Yx%2BOOmsv%2BsaHwTHqCD6GyuJiR%2BFcsMPioO8Hr5SX6M7JZhgZL94ml/ehJf%2BlRQuq/8Ey/2CtVuTeD9mDw1YzH/lrosUmnsPobZ48fhVX/AIdq/s1afz4O1P4ieHD2OhfFfXYtv0DXbAfgKs/8PGv2abH5fFy%2BOPDz949d%2BGWtw7fqRaFR%2BJqW1/4KU/sLXMwt5P2k9AtJD/yz1LzrRh9RNGuK6OfOUt6lv%2B3mjH6zkDfx07%2BsU/8AMpf8MB2ltxo/7Y/x%2Bsh/CB8TpbnH/gTHL%2BtA/Yn%2BJdj/AMgT/goP8bY/QX1/pF1j/vvTq6vTf24/2MdXA%2Bw/tX/Dok9Ek8Z2UbH8GlBrbs/2nP2bNRAOn/tCeB5wenk%2BLLNs/lJUOvmK%2BJP5xT/NGsXlcvgmvlL/ACZ5z/wyb%2B01b8ad/wAFHviGoHT7T4X0Gb%2BdkKP%2BGX/2v14i/wCClHi8D/b%2BHvh1v/bOvV4PjX8GroZtfi34Ykz08vXrc/yerK/FX4XuMp8SNBI9tYg/%2BKqPrWKW8V/4BH/5E1VLCPab/wDA5f8AyR4//wAMuftdScXH/BSbxiR/0z8A%2BHk/lZ0f8Mi/tF3PGp/8FGfiW47/AGXQtCg/lYmvX3%2BK/wALYhmT4leH1H%2B1rMA/9mqpc/HX4I2Yzd/GPwrEB/z08Q2y/wA3o%2BtYt7RX/gEf/kQdPBreb/8AA5f/ACR5X/ww742vPm1r9v346zk9Vtde0y2U/wDfrTwR%2BBo/4d9%2BHLvjX/2q/jzqSn70c/xYvYUb6rb%2BWK9Bvv2q/wBl7TATqX7SPgK3A6mfxhZJj85awdU/b2/Ym0gE3f7WHw%2BbHUW3iu1m/wDRbtVqtmT%2BFP5Rt%2BSMpSyqHxzj85f5s5s/8Eyf2Rr35/FPhzxXr8n8T698Sdcut31VrzafyrU8O/8ABOH9g7wxKJtP/ZO8DzuDnfqmhx3pJ9SbgPk1Vf8A4KXfsOFzHYfH6w1Bh/DpGmXl6fyghfNJ/wAPDvghqP8AyJPgb4n%2BJc/d/sP4U6y%2B76GS2QVblnLVm52/7esZLE5CnpOm35OLf4anqPhP4MfB7wEVbwL8KPDWilPuHSdCt7bb9PLQYrpa8I/4bQ8c6x%2B68E/sL/GW%2BkP3G1PRrDTIj9WurxWH4rS/8Lu/bp13914e/Yb0vSd33bjxT8UrVdnuY7OC4z9A1c0sNiJO82vnKP6u5usxwcVaCk15Qm196jY92orwj%2Bzv%2BClfiT91deJ/gx4Uifq9jpmqaxPGPYySWyE/VaP%2BGYf2oPE48r4k/t/eKfIb79v4K8JaXo//AHzI8dxKP%2B%2BzU/V4L4qkV97/ACVvxH9drS%2BChN/%2BAr85J/ge71wvxD/ae/Zx%2BEwcfEv47eEtEkjzut9R1%2B3jmJ9BGX3sfYAmuBP/AATs%2BAmu/P8AFfxH4/8AHr%2BnjL4hajcx/wDfmOWOHHtsx7V3Xw9/ZW/Zp%2BE5jk%2BG/wAA/CGjTR423Vj4ft0nyO5l2byfck0cuEjvKT%2BSX43f5Bz5nPaEI%2Bbk5P7kkv8AyY4U/wDBQ34NeIvk%2BC/gL4ifEVjwJPBvgW7e3z2zc3KwwY/2vMx70n/C2f29viB%2B78Afsr%2BGfBcD8x6j8RvGYuJNvvaaakmD7GZfQ4r3mij21CPwU/vbf5WX4B9VxlT%2BJXfpGKivx5n9zRw/wU8L/Hvw9Z6hdfHr4r6N4kvL2WN7O20Hw0dOttOUBt0aFppZJgxIO5yCNvTmsr4mfC34u%2BMPjZ4c8deFvGPh3TtF0DS7hEi1HR57y6F3PIiyyxhZ4o1PkIY1dt%2B3zZDtOa6/xz8VPhj8MbP%2B0PiR8RdD0CDbuEus6tDaqR7GRhmvL5/2/fgVrErWfwi03xb8RblGKtF4E8J3V5ED73LKluB7mTFEHXlNzjH8Fbt6GOJxGVYamqFesk1Z2c3zOzv35nr2O81j4D/DjxXq%2Bl%2BJ/HWjjW9X0iXfaand4jkOJFkRXWAIkqI6qyq6sFKg9ea7KvDz8Tf25PiH8ngH9nPw34ItW5TUfiH4m%2B1TlT3%2Bx6eGw3s06%2B%2BKQ/ss/Gfx/wDvPj1%2B1/4rvoW5bRfAttF4es8HqjPFvuZF7czDP6UpQbS9pNadN/utp%2BKIhj%2BZv6rh5yvu2uRfPntJ%2BqjI9D%2BKXx9%2BCfwTs/tvxZ%2BKeh6ACu6OHUdRRJpf%2BucWd8h9lUmvOv8Ahr7xt8Rv3H7NH7MvizxRE/8AqvEPiSL%2BwNJKnpIsl2vnzL7RwnPr6dh8Lv2Tv2cvgzef2t8PPhDo9pqRbc%2Bs3MBur927lrqcvMT9Xr0Op5qEdk366fgv8y/Y5viP4lSNJdoLml/4HNW/8p/M8E%2BNEnjeX4g/sxyfEi10uDXW%2BL96dTi0SaSS0SX/AIQrxTkRNKquy4xywBr3uvGf2oP%2BS3/s4/8AZZr7/wBQrxRXs1ZN3Z6kI8kFG97dXuFFFFIoKKKKACiiigAooooA%2BXfgN%2B2N8bfiD8YvC0njbTPCy%2BA/iZrXi3TPBVnpem3Meq6XJot3LFDJeXD3LxXS3dvbXMxWOGA27eXHmfJkF34WftT/ABd139tLxV8Dfix4m0Twzotv4nudN8AaBf8Awn1u0ufE9tFpdvdm4tdenuxp93IrtdlreCBpBHauSAEZx0Xg79gzwN4C%2BJM3xG8L/F3xvALa61m68KaE8%2BnS2HhafVr1bzUpbFHsi7NPKHH%2BkvOIUmljgEKvit%2B%2B/Zag8RfHLRfjX49%2BN/jXxFD4W1q51fwj4O1I6ZHpOi301ncWTTxfZrKK6mK213dRoLm4mVROxA3KjKAcZ/wUL%2BLnwo8NeD/Bnwo8R/E7w9p/inxB8Yfh7LoPhq91qCLUNSSPxnozSNb27OJJgqqxYopACknGDXZeMf2PPhN4j8T3vj3wtqHiLwd4i1Gdp77XPBviCaykuZDyWliy0MpJ674znvWd%2B3h/yRDQ/wDss3w4/wDU10St7xL8Yfiz4J8QXkOu/s6axqmiR3DCz1fwrqUF7LJFn5We1cxyKcdQu/2zUyqqkrv8m/yPMzSGWzpR%2BuU%2BaN9PdcuV97xTcf8AFp6mB/whP7bHw858IfGHwt49s16WXjTRm068CjoourLKM3u0H19aP%2BGp/iD4MHl/G79lTxroir9/U/DSRa9ZKvdi1qfOUf70I963tA/a4%2BAGtX66LqPjyPQdRPDaZ4ptZdMnVv7uLlUDH/dJr0SyvrLUrVL7TryK4hkGY5oZA6sPUEcGiFalV%2BFp%2Bh5%2BGw9Gsm8uxsrLpzKrH5815r0U4nn/AIE/a3/Zq%2BJN1/ZvhT4z6E97u2nTL67%2Bx3YPoYLgJLn/AIDXoisrKGUggjII71z/AI7%2BEnws%2BKNr9j%2BJHw40PXo9uFGr6XFcFR/sl1JX6jFeW%2BJ/2P8A4C/DHw9f%2BMvB/j/xb8MtP0y0lu9Qu/DPjC4t7SCKNS7yPBM0sAVVBONmOOlaqKk7Lc6XVz3DJucKdRLdpum//AZKa%2B%2Bojv8AT/gB8MdB8Q6p4s8JaXeaHqOszyT6pNo2rXFvHdTuQWmkhV/JeUkD94yFuozgmvFv2mP2iP2bPhN8SdPf4v8A7Tl5rE%2Bma2mo6R8M9D0%2B3vb4X6KyxIBbRecqguzBZmGWC/PgbT4x4duf%2BCgv7cOkaz4d%2BA3x51fSPhNMphsfHvi/RINO1TXUGQyWn2WESLCennlVYj33JXq3wC%2BC/jv9jfTE0zwV%2BwN4TvpY4gl34l8FeL4pdQuhjkudRjilbPJ2%2BbjJOAK9x4TDZf8A77JyqfyRauv8Unflf91JtdeVnzss1eMpxWGwsqVJu/O4Skm79IUW1JPfmlJRej948ch8Nf8ABRD46fDaDw78O/2ZLTw/4f07w1PpmlXvxC1BbK/1COSbzJZHs0fdFLNGqxFXKoN8nzYYFPRvh1%2Bw5%2B1j8a7vVPiJ%2B1b%2B1p4y8N3WuPFDeeGvAJttJZ7eBWEaTTQNKCMySjapbKnJfLYX2b/htfwVon/JTfhD8SvCCr/rLjWfBFzNAp/67WYnQj3zW14V/bI/ZW8aSCDQfj/4WMxOBa3mrR2s2fTy5yj59sVnLOK8P93pRp%2BaXM//AAKXN%2BFuhOEwHDTrR9rjXOVkuWU1DZNK8FyvRNpJ30etzgfBVlafsQW8/wAKPgz%2Bw54qvPCNu0cg8S%2BFb/T7y61SVo1Mk08U1xHcNIGLLls8L8uFwo2/%2BG/fgjo/y/Enwx4/8GN/1NHw81KFB/20jhkjx77se9ezaZq2la1aLf6PqdvdwN92a2mWRD9CpIqxXm1MR7ebnWTlJ7u7u33d7n00MDi6EUsJXSh0i4RcUuy5HB2XS7b7tnl3hb9tv9kHxkwj0H9pTwY0jHCwXWvwW8pPpsmZWz%2BFehaF4p8MeKIPtXhrxHYajFjPmWN4ky4%2BqEiqXin4YfDXxwGXxr8PND1gMMMNU0mG4z9fMU157rv7An7GHiCf7Vdfs2%2BFbWXORLpOnCxYH1BtihH4VH%2Bzvuvuf%2BRd88p9Kc/nKH6VD16ivEh%2BwF8DdM58D%2BJfiF4YPb/hH/iXq8QH0D3DgfTGKP8AhjrxTp3z%2BF/20fjHZsPurea/Z3yD6i5tHY/99UclF7T%2B9f5XD61msPjwyf8Ahmn/AOlRge21Fd2VnfxGC%2BtIpkPVJYww/I14v/wz9%2B1nYfLo37eurOg%2B6usfD7SbjH1MaRE/nR/wrH9vLTObD9q3wVqeOg1P4YPFn6mG/wD6Ueyh0mvx/wAg/tDFdcJU%2B%2Bk//ch6VqXwe%2BEesEnV/hZ4cuiev2nQ7d8/99Iaxb39lT9l7USTqH7N3gGfPXzvB9k2fzirj/7L/wCCjNp8sXjT4L3wHRpvDurQMf8Avm7cfpR5/wDwUch/5hfwSuP%2B3/WIc/8AkJ60Sqr4ai%2B9mMsZQl8eFn/4An%2BTZvT/ALEn7Glyd037Jfw0JPUjwNYA/pDVdv2Ef2KXOT%2Byb8Ovw8H2Y/8AadZP9t/8FF4f9Z8OPg1N/wBcvF2qr/6FY0f8JT/wUMXg/Bv4Tt7r441AfzsKrmxS2qf%2BTf8ABMniMse%2BFl/4Jf8A8ia8f7Cn7FUZyv7Jnw5P%2B94Nsj/OOrVt%2Bxb%2Bx1ZnNr%2Byf8NUI/iXwLp%2Bfz8mue/4Sf8A4KHPwvwf%2BEqe7%2BN9RP8AKwo/tb/gozN9zwH8FoP%2BuninVnP6WQ/nRzYl71P/ACb/AIILEZYtsLL/AMFP/wCRO1sf2Y/2bNMIOm/s9%2BB7cjp5HhOzTH5R1u6Z8M/hvopB0b4faJaFehtdJhjx/wB8qK8t3f8ABR2b/lj8Erb/ALa6xPj/AMdSj%2Bwf%2BCid/wDLc/Ez4PaeD/FZ%2BEdTnYf9/L1QfyqGqj%2BKovvZtHGUo/w8LP8A8AivzaPbEjSJBHGgVQMBVGAKWvEv%2BFR/tzah81/%2B2P4asM9U0v4Vo2Po01638qP%2BGcP2mdT%2BTxL%2B3t4qMZ6po3g/RrP8mNvIw/M1Hsofzr8f8jX%2B0MW9sJU%2B%2Bl/8sv8Age20V4kf2Lbi958Sftd/GrUC33lXxslkp9gLOCIj86pw/sK/sj6zrE2g%2BJpNc8T6pbxrJdWuv/EbVLyZEbozwtdYAPqVwaOSgt5P5L/NoTxeau3LQir/AM1S3/pMZnrvib4m/DfwUrN4y%2BIOh6SF%2B8dT1aGDH13sK88179vv9jTw9c/Yrj9ovw1ez5wINEvDqLk%2BgW1EhJ9hVX4Wfsv/ALA2oQzX3wr%2BDHw21dbG4ME93aaZaX7QSgAlTIwcq2CO%2Ba9a0Hwr4X8K232Pwv4bsNNhxjyrCzSFfyQAUf7PHu/uX%2BZNOecYmCnCVKKfVc1RffemeQf8N1eCdZ5%2BG/wP%2BK/i1G/1dxo/w9uoIW/7a3ogQfiaP%2BF5fth%2BKPl8EfsVjS4pP9Ve%2BNvHtnbbR6tDaLcv%2BGQa9urN8R%2BM/B/g%2B3%2B1%2BLfFem6XFjPm6jfRwLj6uQKPaUltD72/0sOeFx3LzV8W4r%2B7GEV/5Opv8TyL/hEP%2BCgfjEbNe%2BM3w48FRHnHhjwrc6rOPbzLyaNPx8r8DR/wxlqnij958Yv2q/ij4nL/APHxZW2vpo1nKPTydOjhOPYua19c/bm/ZL0K7/s4fHHR9Sue1t4eMmpyMfQLaLISapf8NeX/AIgPlfDH9mD4n6%2Bz/wCoubjw6ulWsnv5t/JEce4U1Xtaq2SXyS/Hf8TypVeGnLlqYj20usfaSqf%2BU4tr/wAlNTwP%2BxR%2Byh8O7z%2B1PDXwG8PNfbt39papZ/b7rd6%2BfdGSTPvur0%2BGGG3iWC3iVERQqIi4CgdAAOleOf8ACYft0eL/APkAfBnwJ4Oi/wCenijxRNqU318qziRM%2B3m/jQfgJ%2B0l4v8A%2BSmfthapa278yaf4D8N2umBfYTzC4mx7gis5SnN3nK/4nXh8XRoR5cBgp28oRpL5qbhL7os9e1HUtO0ezk1HVtQgtbeJcyz3MoREHqWYgCvL/En7bn7M2hai2g6V8SYvEmqDhdJ8HWc2r3DN/d22iyBT/vEVQsf2Kf2YI9cgbx5o9z4y1kqZI5fHfiK41WaQDqwiuJGjx9EAru/hzr/wgW4u/A3wwj0uzOmswm07TbAW0a7WKMUARVcKwKlkyAeCQazcqadmzSVfOaslFulRb0V3Ko35W/dpP5yOD/4Xz%2B0j48/d/CL9k/UNPgk4j1f4j6zFpaIf7xtYfPuGHsVQ/wAqD8Ev2oPiH8/xb/ahfRLWT/W6N8NNGSxx7fbLkzTn6qEP07eseIvFfhfwhYHVPFviSw0u1HW51G8SCMf8CcgV55dftg/B68uH0/4ef2341u0bDW/g7Q5r1QfeYAQge5kFTOvSpuzaRz4mhgaLSzDGSk3tFzUL%2BSjT5XJeT5jmPjd4VsvBHxG/Zk8J6dqOoXcNj8X72KO51W/kuriX/iivFB3SSyEs7HPUmvea8J%2BO2s3/AIh%2BJv7M2t6p4cu9IuLn4w3zyabfNGZrc/8ACFeKPlcxsy5%2BhPWvdqafMrn0NFU1RiqatGysttOmj2CiiimaBRRRQAUUUUAFFFFABRRRQB4z%2B3h/yRDQ/wDss3w4/wDU10SvTdP%2BIvgHVdbuPDWneNNLm1G0maG5sEvo/PjcHBUpncDn2rzL9vD/AJIhof8A2Wb4cf8Aqa6JXo/i74VfDXx6D/wmXgTStRcj/XXVkjSD6PjcPwNc%2BI%2BtKKdDlb7Sur/NXt9z9DKt7e16Vr%2Bd/wA1t9zNLXvDXhzxVYNpXijQLLUrVvvW1/apNGfqrgivO739jz4HR3T6l4K0jUvCN67Z%2B1%2BDtauNOIP/AFzicRH8UNT6j8BvDHg%2Bzk1Twf8AFLxN4St4F3FYdeM1nH7tFdeYgH0xXlnx3/bHg/ZQddN8aftI%2BCvEupybRa%2BGn0mb%2B152b7irHYtJgt2Z41U%2BorkpSxmLxHsHhHOdr2p8s7Lvb3Z20evJ0PFzGeAhT9rmNCNl9p8rS9G7Sv6K56R/wqL9onwpz4B/aal1CCP/AFVh428OwXm72ae3MEn4nNfLv7TXxT/aF/a1%2BIx/YT0TwxoniLT9Iu7fU/ixffD7WnjVrCKUH%2ByzJdhEhmkcDcgkZhtx/C4rd8cfHz/gol%2B1J4Ot9E8A/sy%2BIPhN4T1VxHrPi2a4S5177Kfv/ZLJjE8DsvAduQDlWBANewfs7ap%2ByZ%2Byz8PbX4VeC7G/8JQxvvvH8T6PcW91fXBADXFxPJGFkkbud2AMBQFAA92OJyvhyftMRXUa9vci5aRbWkpOV480d4wTupK8rWs/Bqww2ZS9hQq1KVBr3pTlJc6f2YRq307uyVtEnd23dJ/aa8F%2BB9KttC8WfBbxz4NsbC3S3gW48JSTWdvGihVRZLLzkCgAAdOB0roPDH7UX7OvjCQQaD8Z/DzTE4Ftc6klvNn08uUq%2BfwrpvD3j7wL4uUN4V8Z6VqWRx9g1COU/wDjrGk8T/D3wD42jMXjLwPo%2BrqRgrqemxTjH/A1NeXCdWrHnhUUl37/ADTt%2BB9LTp5rGKdKtCcfOFn/AOBRlb7oGpaXlpf263djdRzROMpLE4ZWHsRwayfFfw3%2BHfjuMw%2BOPAWi6yhGCmq6XDcAj0xIpribv9jT9nKS4a90b4fHRLhjkXHhzVLnT2U%2BoFvIi/mKj/4Zp8Q6R%2B88E/tM/EXTmX/Vx32qw6lEv/AbqF2P/fVXz4iO8Puf%2BaQVKuZShy18NGce0ZqX4TjBfiVtT/YP/ZK1C7bULT4L6fpNw3/Lfw7dXGmMPobSSPFQf8MbWGl/8iT%2B0d8WdCVf9VBB41e7hT2CXqTDHtWh/wAIF%2B1tof7zRv2hPDutY6Q%2BIfBPlZ%2Br2s6fooo/t39s3RTvv/h38PtdQfw6Z4iu7J2/CaCRR/30ar6zNfFGS%2BV/ybPLeDyaLvPL5U33jBX%2B%2Bi5Mzz8Dv2qdJ%2BXw1%2B2rdTxr9yLxH4D0%2B6/AvB5DH65o/sz9vzR/3dr4u%2BE2uIvRr3RtSsJG%2BpjmmUfgtaH/AAuz486Z83iT9kbW9g%2B9JonibT7z8laSJj%2BQo/4antrT/kPfAH4oaeB99n8HPcKv1Ns8oo%2Bt0uunqmvzSFbJoaqtWp/4pV1%2BFS6/Aof8LA/bh0T5NV/Zv8E61jq%2BifEOWDP0W4sh%2BpFH/DQP7SGnfN4g/Yf8R7B1fSPF2k3f5Azxt%2Bgq/wD8Nnfs/wBv8uteIdX0px95NV8J6jb7fqWg2/rVvT/2w/2XdTO2D46%2BHIznpdagsBH18zbij63hn9qP3/8ABHHEYJu0M2fpzUH%2BdO/4mL/w1zrNr8us/sjfF%2B1YfeMXhq2uV/AwXTk/lQP21vA1v/yG/g78VtNHc3vwz1HA/FI2B/Cu2sPj58C9VwdL%2BNHhO5z08jxHav8Ayetmz8ceCtRx/Z/jDS589PJ1CNv5NWiq0pbNfedlNY2f8LHRl6xi/wD0mUTzD/hvL9nCHjU9W8T2Ld1vPh/rKY/H7IRR/wAN/fskr/r/AIrND/18%2BH9Qi/8AQ7cV7BDcQXC77eZHX1RgR%2BlPq7x7HQqGf9MRS/8ABMv/AJceOf8ADwP9jcf6z486TH/11hnT/wBCjFKP%2BCgf7GB/5uH8Pj6yuP8A2WvYqQqp6gH60Xj2D2HEH/QRS/8ABM//AJeeOn/goJ%2BxiP8Am4bQD/uySH%2BS0f8ADwL9jo8RfHPTpP8ArjaXL/8AoMRr2MADoKKPd7B7DiD/AKCKX/gmf/y88c/4b8/ZPfm3%2BJd1P/16%2BF9Tl/8AQLY0f8N2/AG440dfGOok9BZfDrWGz/31aivY6hub%2BwshuvL2GIessgX%2BdF4CdHPktcRSX/cKX61mc18Kfi7onxe0261XQ/C/iXTIrWYRkeJPDtxpzTZGd0azqpde2RxniuG%2BO9le%2BFfib4Z%2BI2j6nJBENctINY8vxPdmeRJG8lYIbBibdkfeC7Da/wApIDHmvSr34j/DzTcnUfHmi2%2BOvn6pCn82rkNZ%2BKP7Idt4nj8ba78QPh0NbgjCQ6rcanYm7RRnCrIW3gDJ4B7n1rN1qUXq195njvZ1MFGlWrw500%2BZ2jZp3uk2/TdddUea/tE33h0%2BOdY17VLq2l1qTSNNk%2BGV3E6tNLcRXWZ4LJ%2BpmdiFdUO5o3IOVBxBN4RvNS8fX3gXTtEurbxdP4h15rzVRZSKH028s3ZJTPjaYy5jRF3ZV4wAAFyPSX/bF/ZT0oLY2vxj0NwgwkOnFp8D2ESt%2BlM/4bG%2BDN58vhuHxVrLdl0nwRqUufoTAAfzqfrmGWnOvvR4dWjklXESqTxlPVptJxvu5P7V73aSlbSKSs9zM%2BAOn%2BJLz4gQa5c%2BEtT0eHTPAFhomtR6jpklqkuoQSt/qd6gToq7x5qZUhkAPYdZ8VvhL44%2BJGr20%2BhftAeJ/CWnRW3l3Gn%2BHLeyDTvuJ8wzTwSOpwQMDjjOM5rG/wCGndSvfl8P/s0fE68Y/dM/h6KzU/U3MyEflR/wtv8AaU1L/kCfsnSW6t92TXPG1nBj3KwCY/hU/WqTd1d%2Bib/Q9GjVyuOC%2BruVSabu3CFX86a2762Zn/8ADEvw/wBV%2BXx98VfiZ4oQ/eg1n4gXqRN/2ztnhUfgBWl4c/Yl/ZL8L3H2zT/gB4annzn7RqtgL6TPrvud7Z985pv2n9tXV/mi0v4aaGjdBPdX%2BoSIPcKsKk/jR/wqv9pzWPm1/wDakhsFf78Hh3wVbRbR6CS5eY/jgUfWaj2jJ/cvzaIhhMpUlOllzm/5nCCf31JKR6Pofhzw94ZtBp/hvQbLT4B0gsbVIk/JABVzegcRlhuIyFzzivLP%2BGVrDU/%2BR1%2BOPxH1xW/1sE/it7WF/bZaLEMe1dF8N/2fvhB8JNUn13wB4Njsr%2B5t/Iub%2BW7muJ5Y9wba0kzuxGVB69RRGdaT1jZeuv5fqezh6uYOaj7CMIec9V6RjFx/8mRR%2BPPiT4keCtIj8WeCr1pILYjztNg0FroykZZnllEmYoQinJVCwOME5C1X%2BLfhvxH4xudB8YeFtQtLvSbW2mlvrO68UXWn2s6sEaOYm3BEpUrwsmFw5yRVr4zXuk6hq2h%2BBNUvtaih1e5aK9/si%2BEC%2BU%2BIwJjtLFGd1TCFTk9cCsj4kWelabLeaJZ%2BBtCv9I8PaTBqt5p2s2BufMVd0aiHe%2ByHZHEx3bWyRjAzurgxGLowdS7vZpNdnbm%2B62r9Lb6HDjISnUrRbvB8ul3pJe9ompK1t1azttffjL/W7XxHrkfxAj8L3kOueJG0HVvCEklk7yx7l8qe18wLhFjXe0ikgFZC2DurqfAHgTxpo3jPw1oF14cu4LbwhNq0Z1x5YjBe2NwzGCFQH8wyf6lmyoAMB5O4Vcj8VeNU1S41DTvEWIZNem0W10g20Sw24aENbSJhQ%2B4ZDNuZgQTgACn/AAV1Vf7Z0210fVLie31PwpHfavbXN89xJaX4eNW3l2JRn3OCvAzCcAVyUsbSniIws9X5Lqtba3u2r7NJbbnHhsHSWJi5ybbd3old8yk3bW95W7NRSXdna%2BK/hr8PfHd9Y6l428EaVrE%2BmeYdPk1Owjn%2Bzl9u4pvB2k7F5H90VrQwWWm2ggt4YreCFMKiKERFHsOAK57x54d8UeK7q20zwx8VJ/Dyxo7X0NjZQSzzqdu0hpQ3lAc8hTncOmOcOP8AZm%2BHN%2B4n8cXuueKZVOQ3iPW5p0B/65KVi/DZXfUr4v2so4ein/eckk/uUpabaxX3anvy9rCtJ0aKu95NpX08k27bapbdjl/2lrq1vvjP%2Bzfd2VzHNE/xlviksThlYf8ACFeKOQRwa9qrxD9onR9J8P8Axc/Zr0XQtMt7KztvjHfJb2trCscca/8ACFeKOFVQABXt9d8OblXNv1sdkeblV9woooqhhRRRQAUUUUAFFFFAHMeHPjb8GPGPxB1n4SeEfi74Y1XxX4cRX8Q%2BGdN1%2B2n1DS1bG1ri2RzJADuXBdRnI9aLX42/Bm%2B%2BKdz8C7L4ueGJvG9nYC9vPB0Wv27arBakKRO9oH85YyHT5yu35l55FfHH7PHh7xn4L%2BNPgPQ/EPwg8a6dqXwx8TfEm/8AH/iY%2BB9Ra11K21jWJJLQWtykBXUjevPa3rJbmUwi0bzxE8YWrvg34f8AxBi/ak8PfDeb4UeKIte0H9p3xJ491rxnL4auk0qbw7eaFqdvbSJqZj%2BzTyFb2w0/7KshmX7MzGMRwq9AHvf7eH/JEND/AOyzfDj/ANTXRK5r46/tQwfBn42H4P8AwF%2BGPif4l/EjVtLe/ufClhrgi0/S4GdQtxdSzEpa7iRtAH3TztDIW2/22fg/%2B0/8YfCmi6X8APFXgJbbSfGHhvXdQ8OeMNNvYX1VtL16x1Mxx6pbSyCxDJaFctYXW5iB8gbcvh/7Bmi/tieGPDHjL4oeGv2dfhnrniDxN8RPENp4n8T%2BJvjlqK317Ppmr3mmGPEXhgosCNav5artBVt2yPd5ab0MPlNSft8ZTVSVPWEXde89LtqzSS3Sabultdrz8dHHVXClh3yp/FPRuKXSKd05N7NppK7etk%2Bz8QfA79u744%2BHIdW/aB%2BJul%2BHlGqxSxeDPh5M6oICQoiuLmSJ3Y5OXKtsKggYBYHqvC37Jf7LX7OuhQXnws8E%2BHtL1FfNur641cyT3%2BrEKwZDcSsJid/zAD5dwGEHFbv/AAnH/BQv/o1/4M/%2BH41b/wCZemy%2BMv8AgoLOAs37LPwXcKwYBvjtqxwR0P8AyK1eBmmWVcd9b9lU5I4lQUoWfJeDbi7Jpta7Sclola10yjlmFpSjOS55x2lL3pedm9r%2BVkdTe61qzXTXGl6jdWUenS6fbWmmbwRJJKA8iS7gSx8t1A5%2BXGeav6J4x1fWNXsGvRayabrb3a2doLc%2BZHHFnbKzlsMrgdNvG9eetedTaj%2B3Xca3H4km/ZJ%2BCbX0S4S4Px21bcOCAf8AkV8ZAJAPUAmquhf8N56BqB1G1/Zl%2BEUhVHS1in%2BPurMlqjtuZIwPCw2gkDrk/KB0GK8Wlk%2BeUMbGSq3g5XdpO1lNNNx0WtNyp8ivFWhLp7vfY9T8Q/Af4MeKmMmu/C/Q5pCeZ105I5P%2B%2B0Ab9ayP%2BGa/Ben/APIn%2BK/Fvh8do9J8UXOwf8AlaRPwxivHdW%2BMH7dnxC%2BMmsfA21/Z2%2BHelat4W8M6Vr1zfaZ%2B0HqkME0GpXGo28KD/il2LuraVOWDIABImCxLBe00HxL/AMFE9H0mHTbv9nf4RahJECDd3nx41TzJMsSN23wqBwDjgDpXrvAYetj5wqYSKja6qLlu3pppaSe/dab7I5Z4HBzlzOmr97K/37nX/wDCrvjLpXy%2BHP2jL6SNfuRa74ftbr83jETH86Nv7VGl8LL4E1hF7st3YyMPw81c/lXN/wDCcf8ABQv/AKNf%2BDP/AIfjVv8A5l6P%2BE4/4KF/9Gv/AAZ/8Pxq3/zL10f2XRj/AA6k4/8Ab8n%2BEnJfgL6jTXwSkv8At5v8G2vwOk/4WP8AHfTuNX/Z2Nwq/ek0bxVbS59wswiP4Uf8L/ltONd%2BCPj6yI%2B%2By6ALlR%2BNvI/H4Vzf/Ccf8FC/%2BjX/AIM/%2BH41b/5l65fVv2jv27dH%2BM%2BgfA64/ZQ%2BEjap4i8L6vrtncp8ddU8iODTrnTbeZHJ8Mbg7NqkBUBSCEkyVIUMfU8dH4MTJ/4owa/8ljF/iL6viY/DWfzUX%2BSj%2BZ6YP2o/gzB8usa5qGmOPvJqnh%2B9t9v1LxBf1rovBPxW%2BHHxIaaPwJ4z0/VHt0DTx2k4ZoweAWXqM4715z/wnH/BQv8A6Nf%2BDP8A4fjVv/mXqOPxb/wUAhma5i/ZV%2BCqyOMPIvx11UM31P8Awi3Na0qeZxqL2lSEo9bQaf387X4F04YxTXPOLXlFp/fzP8ju/iZ8RNX8Ky2%2BneF9KivLs3Fsb4zBvLt4JZliBJX%2BNiSFHqpJ4qv8UPE8en3baZZ%2BDNN1eW20yXUdQXUWCqltHkYX5G3OxDAAgDjkivKfHXhf9sv4hzw33iL9jv4HSXcNxBJ9t/4XdqfnMsUgcRlz4VzsOMEZ6E4xVfxfo/8AwUZ8UESQ/Az4N2ss%2Bmzadqcq/GvVGNxaSNkquPDAEbqCwV%2BcbjkGuPEQzXmquGzty2a87/Ekk9r3v1tbRHPXhjZe0tqna23nfR6du/XyR3V7ZfBzXtbhhn/Z%2B8NXmmPdWtrd6hd6XbF457iMOgEZiIdRuVWYuCCwwG5IoaB8J/2XvG%2BtQ2E/7M3he0ttRhmm0a/XRbVRfRxMFdgsahkxuUjd1BzXlXxf8b/t5/Be3tPHWs/s4/CGTQL7x34csjpFl8aNUef7dfX9npFqfNbw4qrAs1xBLINpfCOVJyEPVeDdE/4KIeFr/SJrn9n74LXUGg6ZPY6VCnxr1eNljleMkyN/wjTb2CxIuQF/iOOeMoUczdZc8U43d9Ibcy%2BduW7X2uZa6aHE8u9pU/e0YtX6xh3Xle1r26330PRJv2K/2Vpn8z/hSGixt6wRvH/6Cwpv/DFX7Mo/1Xw08r/rhrN7H/6DMK43x0v/AAUR8bw20UHwY%2BHGhm2Zjv0L9oTU4TLkDh9/hNwQMcfU1zn/AAgn/BS2P/j20fwoP%2Buv7Qd0/wDPwdXVWUqdRqGF5l3XIvwbRVXKMsjNqOBhJd%2BWH6o9V/4Yu/ZzH3PB2pJ/1z8W6mv8rmj/AIYw/Z6HTw3rY%2BnjbVv/AJKryr/hEP8AgqMn%2Bq07wOP9/wCONw3/ALp9cx8bfF3/AAU0%2BA/wY8XfHHxToXgy60vwZ4Yv9d1K1sPjPK081vaW0lxIkYfwiqlysZChmUZIyQOay55/9AT/APKf/wAkZ/2Xln/Qvj/4DS/zPfP%2BGL/2eTw3hnWj/veNdWP/ALdUf8MW/s4n7/gm/f8A66eKdSb%2Bdwa8q/4RX/gqieGsfAP4fGqcf%2B6fR/wh3/BUJ/8AXab4JP8AufHS4X/3TqOef/QE/vp//JB/ZeWf9C%2BP/gNL/M9V/wCGKf2YG/13wrhl/wCu%2BpXUn/oUpqW2/Yx/ZXtDui%2BBfh9j/wBNrTzP/Qia8l/4QH/gpNJ/x8aJ4Xb2T9oi7Qfp4Oo/4Vt/wULf/j48GeG5P%2B7nNWT/ANA8JrTvXe2DXzcP0uNZVl6d44Cn/wCA0/0TPbrL9mD9m/T8G1%2BAng4EdGbw3bMR%2BLITW1p/wm%2BFek4/sr4Z%2BH7bHT7Po0CY/JK%2Bd/8AhVH7cUx/4mPwd8I3Y7i4/ar8REH/AL58NCuY%2BCOl/tD/AB8%2BDHhH45aJ%2Bxt8OG03xn4X0/XdOt9c/ab8RvPFBd20dxGkqjw%2ByBwsgDBSwyDgkc1aeY/Zw8F6za/Kmzpp4T2f8PC0180vygz7GVdG0O3wq21nEOwCxr/QVl6h8UPhppOf7V%2BImhW2Ov2jV4Ux%2BbV88W3wV/aItZPNH7BHwElb%2B9c/HPWJif8Avvwwc1s6f4Q/ar0nB0z9gr9naAjo0Xxdv1P5jwpmr5s4l9inH/t6Uv8A2yJ1J4%2B1lGC%2Bbf8A7aj1G/8A2mvgBpz%2BXN8W9ElbstpeCcn6eXuzVf8A4ad%2BF918vh%2BHxDq7dl0vwrfS5%2Bh8oA/nXJ2HiH9vXSl2aZ%2ByX8EbZfSD446og/TwtVj/AITj/goX/wBGv/Bn/wAPxq3/AMy9Hss3lvVgvSnL83U/QOTMHvUiv%2B3X/wDJ/odJ/wAL08Q3/wAnh39n/wAb3LH7rXllb2aH8ZplI/Kj/hN/2idU/d6X8C9L07PSXWfFqHH1W3if/wBCrzPwD%2B0d%2B3b8RPFfjfwho/7KHwkhuPAfiiLQtVkufjrqgSeeTStP1MPFt8MElPJ1GFSWCnejjGAGbqP%2BE4/4KF/9Gv8AwZ/8Pxq3/wAy9H1LGS%2BLEz%2BSgl%2BMG/xD6tiH8VaXyUV%2BcW/xOj/sr9qPV/kvPF/gvRVP8Wn6Rc3jr%2BMssan/AL5rd8C%2BEPHnh%2B%2BnvvGfxWufEHmxBI7ZtKt7WGE5zuURjcT2%2BZjXn/8AwnH/AAUL/wCjX/gz/wCH41b/AOZej/hOP%2BChf/Rr/wAGf/D8at/8y9aUsvpUqiqOc5Nd5yt/4DdR/AunhIQmpc0m/OUrfde34HZfEX4OxeO76TV7fxfq2n3Li1AS1u9kP7iUyISEAfILPjDjBOaq/Fzwa9/osl/Hf3LalcxvYRxWe2Nby2cljbyhw%2B5AgcllwwG4gjJridV8Qf8ABRTUr%2ByvIf2ffhLaJaSl5be2%2BPOphLnphX3eFScD2I61yt58Zf20PiF8Yda%2BA2qfsifCWTUfC/hvSPEFxcN8e9XS3eHUZ9TtokQp4aDM6nTLjeGULtkjwWJYL5%2BYZdPE4fEww9PlqSslJysn15lbms1eVrx36NDeEw7cm4/Fv/XzZ674h8HWmrQaN8QvCOiXSX0r28sx0%2BSPzDE0OzeFnbyS6oQokYbgoIB5rP1GXQ5r6XWbK5m0x10q4mEu4QSPfW022UzeXgTP0HO4EEkda4/Ro/29dD8PReGLL9mr4SJaRRBESD4/6vCR8xbIaLwsrAnOCQeQKtwXv7c8GnRaT/wyL8EpbeGTzI0uPjrq0uHznfl/C5JbPO4nPvXjVuH8yxseeTUHOMXOLbcVUVruKSVrrmvK92%2BV2VjWNKnH4Ul126nV24mHiKKSawaPW7jX7e7glFud0tk8UfmqZMfcQGRcE9UX1Fd94g0y/wBY0mTTtN16fTZpCuLy2RGdACCQA4I5GRnHGc15N/wnH/BQodP2Xvgz/wCH41b/AOZej/hOP%2BChf/Rr/wAGf/D8at/8y9e1luRwwNGtSnUclUbva8Xre7unfm1tzpp2Uequ7SsVv2iNOfSfi3%2BzXpsmpXN40PxjvlN1eOGlk/4orxRyxAAJ/AV7fXyv8T/Ev7Vur/tJ/s6Wvxr%2BC/w98P6OPi5qLR33hb4nX2sXJn/4QvxNtQwT6LZKEILEv5pIIA2HJK/VFe3TpwpU1COyVl10XrqMKKKKsAooooAKKKKACiiigAqj4o8Q2HhHw1qPivVQ/wBl0yxmu7nyly3lxoXbA7nCmr1R3dpa39rLY3tuk0M0bRzRSqGV1IwVIPBBHGKAPm/9jX9qX4%2BfFTxho3hb4/6b4SR/G/wn074geF18J6fc2/8AZdvcShJ9MumnuJhdSQia023cYgWUvL%2B4i2Dd5XYf8FHvjL8O/hgfjT4l%2BH/gy68N%2BO/hf4r8dfDPQNC064sbmylsb20FvaalcPPKly94upwzyTxQweS6TKUm3K9e8/AD9hfwh%2Bzpqtvq/hP4y%2BOtTl07RdO0DQxr9zp1wNK8P2TyvBo0JWyQm3zL880he8kEUW%2B5by1xjaT/AMEzvgNbWniDw94k8VeLdf8AD2reEtc8MaH4Y1bUbZbTwtpOr3CXF/a6c1vbxToHkhtyjzyzyQrbRJE8artIB037Mnxc%2BMfiPx94/wDgX8f7vwzqHibwLdaZMuueENGuNOsdQsb%2B082Jvs1xc3LwypLFcxMPOcMsccg2bzGnsVed/AD9nPSvgMfEOsXHxI8TeNPEXivUYbvxB4s8YSWZvrvyLaO2gi22VtbW8cUcUYCrHEuWeR23PI7N6JQAV8u/Ab9sb42/EH4xeFpPG2meFl8B/EzWvFumeCrPS9NuY9V0uTRbuWKGS8uHuXiulu7e2uZiscMBt28uPM%2BTIPqKvDPB37BngbwF8SZviN4X%2BLvjeAW11rN14U0J59OlsPC0%2BrXq3mpS2KPZF2aeUOP9JecQpNLHAIVfFAFTXPip8cfh5%2B2p4R%2BGetaj4B13SviI2poukaH4XurbXdB0ewtZp4tRu717yWO6txdPFalBbwBZtUj2M2H3ZH/BOL9qf4u/tH%2BBfN/aL8TaJZeO/wDhGdI1XWfh5b/CfW/Cl94ca6jlMiyLq93M%2BoQGVHijuoEjiLW0vLk4TrPA37Gn/CA/tKeLP2l9O/aU%2BIV3e%2BNJ1Os%2BHtSi0OaxW3it3htbKGX%2BzBewWtuZHmjhS5C%2Bc8kj7zLL5mx8G/2X7b4W/EXVPi/4t%2BNPjL4g%2BKdS0S30ZNb8ZHTY3s9PhlkmFvDFptlaQKGllZ3do2kYhAX2oqgA9RooooA%2BXf2mv2xvjb8LPin4xb4eaZ4Wbwb8JtF8N6n47ttZ025m1HWI9UvriKaOxmjuY47Rra1g88NJFcCeSURYhCmQzftkftK/Ez4FftC%2BDrO21jw94S8DSeEdSvPEvxF8R/CLWfEVtpsi3tgi2kt7YXdvBpEMkbSyvPdN5X%2BjKTwldt8Z/wBiH4cfG74pH4ma5458VaXFqNrpFr4v8NaNdWqad4pg0u9kvbGK%2BWW3kmCxzTS5%2BzywGWOQxTGWMKgn%2BOn7JN1%2B0J4Jl%2BGPjz9pb4hxeGNU0e40nxdoOmLosMXiSynLiaG5l/s0zwhonaAtaSW7eWeu/wCegDzzUv2xvjba/tAXcsGmeFv%2BFY6f8ZrP4aXNg%2Bm3J1uW8uNNgnGprdC58hYlvLmK2%2Bym3LGNXn88HENfUVeL3H7Dvw1n%2BPf/AAvAeNvFMdo/imHxRP4DjubQaHNr0WnLp0Wpsn2b7T5q2yRgRC4Fv5kSTGEyjzK9ooAK%2Bev2vP2if2gPAfxAh%2BF37OFr4RXU9P8AhrrvjfWbjxlptzdQ3UFhJaxQ6bCLe4gMElw9xJm6YyrAIB%2B4mMmF%2Bha8j/aX/Y88H/tM6hZa1qPxJ8X%2BEdQt/D%2Bp%2BH77UfBt5awzalouoeQbzT5jc204WORraFhLEI7iIoTFNHvfcAc1%2B058d/GUH7Ff/DXPww8WeE9D0bTfBY8ZXtn418B3GvNdQpape20EEVvqVkY7nzAgQ5kJk2BVDYNcNe/tYftXfD746%2BA/hr%2B0Nrng/wAEaRd/D7wheeLdd/4VDr2o6XqPibUL29ttR0q31aK/Wz0gK0FokH2wzMXvo/8AW8I3uPjz9mHwX8R/hpZfB/xP4k1lvDmneKNJ1e00q1FpDGsOm3lvd2umEJbjdZCS1iDI2ZHQFGkKsRVT46fstQftBa5bJ42%2BN/jW38JLNYzan8PdMOmR6VqslrcrcxmeVrJr4BpEj3pFdRo6xhSuGcOAeqUUUUAeL/8ABQX4u/HD9n79kfxp8evgFe%2BFI9Y8E6Fd65dQeMNFub62u7S1tpZnt0S2urZkldkRRIXKoCxKPwKu/tg/E/xd4E8HeGvAvw90zQbjXviP4ytfCmmy%2BKtNkvdMtVnhnuLma5to5YWuUW0tbnEIlj8xyil1BJGp%2B1j%2BzjZftafAjXv2fda%2BKvinwjpPieylsdcv/CC6d9rubKWJ4prbdf2l1GiOr8siLICo2uvOc7xv%2BytJ8Svh1Z%2BCPHn7QXjrUdT0nU9O1TQPGJi0eDU9J1KzJK3kIg05LZnkDOsiSwSQskjp5YVipAPBJf27v2rfGWh/8IZ8M9G8AW3jbwnoXjrUvHFzrWkXs2m6k/hzWBpUdtZRx3aSWgvm3ziaSS4%2ByKAhjuWO4fW3ww8e6Z8VPhp4d%2BJ%2Bi20sNn4k0K01S0hnxvSK4hSVVbHcBwD714h4h/4JpfCfWPAuk%2BD9G%2BLnxA0G8s9N8Q6drvifRdSsV1LxJaa7dre6xFevLZvGDc3SibzLaOCWBsi3eBSVP0FoeiaR4Z0Sz8N%2BH9PitLDT7WO2srSBdqQwxqFRFHYBQAB6CgC1XNfGKT4mw/DLWJ/g5rWg6d4litd%2BmXvibSpr6xiKsC5lggnt5JR5YfCrLH8xXLYzXS1hfEzwdqnxB8B6n4L0b4g6z4VuNRt/JTxB4fhs5LyzBILNEt7b3FuSQCp8yFxhjgA4IAOC%2BAnxR%2BMH7Q37Efw/%2BNfh%2B58NaP418cfDjRNcaW80q4uNLs7y8soLiU/ZluEmkiUyPtj89WICgydWrwG9/bM/aj0H4OaevgLSPCt1Bo/xzu/AmoePPB3wa13XtHk0Kz0S6uX1G00TTb1rqNYtRhTSXIuZYklglbOCoX2Hwl%2Bw1P4M/ZLT9jzSf2t/iuug2vghPCula/DPoltrGm2MaJFE8FxbaXGqzJAghWUoTtJc5lxKNHwf%2ByN4m%2BHvwQ0n4G%2BAf2vPiNolroVwi6Tq%2Bl6J4VhuLWwS3WCPTUhXRPsa2ybQ6kW/nBjjzdmEAB6F8HfG%2Bm/Er4T%2BGviBpHjjSPE1vrOh2t2niHw/aNb2OpF4lY3EETyytDG5JZY2kkZAQrOxBJ6SuX%2BCvwh8G/AP4U6D8HPh/FcrpHh7T0tLNr65aaeUDJaWWRuXkdizs3dmJwOldRQAV4v%2Bxz8Xfjh8Srr4peDvj9e%2BFLvWfh/8TG8PW194P0W5sLW4tW0bStSQtFc3Vy5kVtQeMuHCuI1YImSK9orxf4E/seax8CfGni/xraftZfErxHJ448Vw%2BINesfENp4dED3aWtvZkJ9k0iB0je3tLaJgHziEMpV2dmAPDPBH7f/xV8GfDf4xfET4vQ%2BGrbxd4b0vxBrGifDBvhRrXhm%2Bv47LUH0%2ByvG1K/upItVt5I109ZLm1h2RfaYskDYh95/Zk%2BLnxj8R%2BPvH/AMC/j/d%2BGdQ8TeBbrTJl1zwho1xp1jqFjf2nmxN9muLm5eGVJYrmJh5zhljjkGzeY0zNc/YI8DfETVfEGq/Hr4weOfiGdc8E6v4StIPEk%2BnWyaLpOpyQPew2n9m2VqfMc2lpieYyzJ9mTa6kuW7H4Afs56V8Bj4h1i4%2BJHibxp4i8V6jDd%2BIPFnjCSzN9d%2BRbR20EW2ytra3jijijAVY4lyzyO255HZgD0SiiigDxf4K/F344a1%2B1x8WfgL8VL3wpdaP4Y0Lw9rnhCfw/otza3MVpqVzrMP2e8ea6mW4lRdMibzI0gXMrjYcA1z/AIk%2BIn7S3hX9vzwX8INM8VfDnVfDni7SNY1jxDZwfD68t9Z0vQdORIrffqP9qvFLIdQ1G3VVa0VWRroqqlSa6DRf2PNY0D9ovxh%2B0lp37WXxKGoeM9KstMvdCe08OnT7O0s57qa0igH9keePKN7dKGkmkZlmO8uVQr2ml/Avwrpfxw8S/tApq2pza/4k8MaboDefNGYdOsrKW7mRbZRGCjPLeyvIzF95SIcCNQADx7/gnF%2B1P8Xf2j/Avm/tF%2BJtEsvHf/CM6Rqus/Dy3%2BE%2Bt%2BFL7w411HKZFkXV7uZ9QgMqPFHdQJHEWtpeXJwn0rXl3wb/AGX7b4W/EXVPi/4t%2BNPjL4g%2BKdS0S30ZNb8ZHTY3s9PhlkmFvDFptlaQKGllZ3do2kYhAX2oqj1GgArwf9rX4zftBfAbxJ4X8XeDPEHge98Pa14u0Lw7beBb7w5eSa5rlze3yw3LWl7HerFCYLVpLrY1pMPLtJmd40BeP3ivGfiT%2BxyvxE/ad0T9qa3/AGjviBoWq%2BH9DGlaZoGmQ6JcaXBA83m3LRpfaZcTQy3IEcc0sUqO0cMaKyAcgHC/tsftQ/Gb4W%2BMvEFn8GvDng66T4T/AAouviV4mHizSp7qbUYVa6hi0%2BwkiuIRYzyw2uoKbtxOqbo18l1dyKsX7bPxi1D41nXdK07wufhXF8XrD4dPYy6Xc/25Lc3WmW9wuqLc/afJSJby6itjam3LGNXm88HENdx8dP2EfBX7QbRTeNvjB44tprvwvd%2BGPF8%2BkXGnQN4r0K5mEsmmXw%2BxFVi%2B%2BiyWwt50SaULKPMcm1P%2Bw58NJvj1/wALvXxr4oitG8Uw%2BKJ/AUVzaDQ5teh05dOi1Nk%2BzfaRKtskYEQuBb%2BZEkxhMo8ygD2iiiigAooooAKKKKACiiigAooooAKKKKACiiigAooooAKKKKACiiigAooooAKKKKACiiigAooooAKKKKACiiigAooooAKKKKACiiigAooooAKKKKACiiigAooooAKKKKACiiigAooooAKKKKACiiigAooooA//2Q%3D%3D\">"
      ]
     },
     "metadata": {},
     "output_type": "display_data"
    }
   ],
   "source": [
    "try:\n",
    "    display_html(HTML(anim.to_html5_video()))\n",
    "except (RuntimeError, KeyError):\n",
    "    # In case the build-in renderers are unaviable, fall back to\n",
    "    # a custom one, that doesn't require external libraries\n",
    "    anim.save(None, writer=matplotlib_utils.SimpleMovieWriter(0.001))"
   ]
  }
 ],
 "metadata": {
  "kernelspec": {
   "display_name": "Python 3",
   "language": "python",
   "name": "python3"
  },
  "language_info": {
   "codemirror_mode": {
    "name": "ipython",
    "version": 3
   },
   "file_extension": ".py",
   "mimetype": "text/x-python",
   "name": "python",
   "nbconvert_exporter": "python",
   "pygments_lexer": "ipython3",
   "version": "3.7.6"
  }
 },
 "nbformat": 4,
 "nbformat_minor": 1
}
